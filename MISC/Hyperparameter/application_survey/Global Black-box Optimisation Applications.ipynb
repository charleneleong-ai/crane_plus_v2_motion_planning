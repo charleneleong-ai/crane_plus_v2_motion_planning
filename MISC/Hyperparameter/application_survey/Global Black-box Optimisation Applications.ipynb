{
 "cells": [
  {
   "cell_type": "markdown",
   "metadata": {},
   "source": [
    "## Deep Learning and Robotics"
   ]
  },
  {
   "cell_type": "markdown",
   "metadata": {},
   "source": [
    "#### [Paper] A Survey of Deep Learning Techniques for Mobile Robot Applications (2015) [Link](https://arxiv.org/pdf/1803.07608.pdf) "
   ]
  },
  {
   "cell_type": "markdown",
   "metadata": {},
   "source": [
    "#### [Paper] A Survey of Machine Learning Approaches to Robotic Path-Planning (2009) [Link](https://www.cs.colorado.edu/~mozer/Teaching/Computational%20Modeling%20Prelim/Otte.pdf)"
   ]
  },
  {
   "cell_type": "markdown",
   "metadata": {},
   "source": [
    "#### [Paper] Developmental Bayesian Optimization of Black-Box with Visual Similarity-Based Transfer Learning (2018) [Link](https://hal.archives-ouvertes.fr/hal-01880071/file/MaximePetit_ICDL-Epirob2018.pdf)"
   ]
  },
  {
   "cell_type": "markdown",
   "metadata": {},
   "source": [
    "#### [Paper] Black-Box Data-efficient Policy Search for Robotics (2017) [Link](https://arxiv.org/pdf/1703.07261.pdf)"
   ]
  },
  {
   "cell_type": "markdown",
   "metadata": {},
   "source": [
    "#### [Paper] Combined Optimization and Reinforcement Learning for Manipulation Skills (2016) [Link](http://www.roboticsproceedings.org/rss12/p33.pdf)"
   ]
  },
  {
   "cell_type": "markdown",
   "metadata": {},
   "source": [
    "#### [Paper] Contextual CMA-ES (2017) [Link](http://eprints.lincoln.ac.uk/28141/1/Abdolmaleki_IJCA2017.pdf)"
   ]
  },
  {
   "cell_type": "markdown",
   "metadata": {},
   "source": [
    "#### [Paper] Policy Improvement: Between Black-Box Optimization and Episodic Reinforcement Learning (2013) [Link](http://sites.isir.upmc.fr/www/files/2013ACTN2859.pdf)"
   ]
  },
  {
   "cell_type": "markdown",
   "metadata": {},
   "source": [
    "#### [Paper] Black Box Optimization via a Bayesian-Optimized Genetic Algorithm (2017) [Link](https://static.googleusercontent.com/media/research.google.com/en//pubs/archive/46487.pdf)"
   ]
  },
  {
   "cell_type": "markdown",
   "metadata": {},
   "source": [
    "#### [Paper] Practical Bayesian Optimization for Model Fitting with Bayesian Adaptive Direct Search (2017) [Link](https://arxiv.org/pdf/1705.04405.pdf)"
   ]
  },
  {
   "cell_type": "markdown",
   "metadata": {},
   "source": [
    "#### [Paper] Dynamic Control of Explore/Exploit Trade-Off In Bayesian Optimization (2018) [Link](https://arxiv.org/pdf/1807.01279.pdf)"
   ]
  },
  {
   "cell_type": "markdown",
   "metadata": {},
   "source": [
    "#### [Article] Surrogate optimization for mixed-integer nonlinear problems of black box type in engineering applications (2008) [Link](https://www.uni-muenster.de/AMM/num/Vorlesungen//Skiseminar_WS07/talks/Thomas_Hemker.pdf)"
   ]
  },
  {
   "cell_type": "markdown",
   "metadata": {},
   "source": [
    "### Motion Planning\n",
    "#### [Thesis] Adaptive Motion Planning (2018) [Link](http://www.sanjibanchoudhury.com/assets/docs/publications/thesis/thesis.pdf)"
   ]
  },
  {
   "cell_type": "markdown",
   "metadata": {},
   "source": [
    "### Robotic Grasping"
   ]
  },
  {
   "cell_type": "markdown",
   "metadata": {},
   "source": [
    "#### [Paper] Dense Object Nets: Learning Dense Visual Object Descriptors By and For Robotic Manipulation (2018) [Link](https://arxiv.org/abs/1806.08756)"
   ]
  },
  {
   "cell_type": "markdown",
   "metadata": {},
   "source": [
    "#### [Paper] Closing the Loop for Robotic Grasping: A Real-time, Generative Grasp Synthesis Approach (2018) [Link](https://arxiv.org/pdf/1804.05172.pdf)\n",
    " "
   ]
  },
  {
   "cell_type": "markdown",
   "metadata": {},
   "source": [
    "### Libraries and Workshops\n",
    "\n",
    "[Library] Awesome Robotics Libraries [Link](https://github.com/jslee02/awesome-robotics-libraries)\n",
    "\n",
    "[Workshop] BayesOpt 2017 [Link](https://bayesopt.github.io/accepted.html)\n",
    "\n",
    "[Article] Blackbox Optimization:Algorithm and Applications (2016) [Link](https://www.gerad.ca/Sebastien.Le.Digabel/talks/2016_UBCO_50mins.pdf)"
   ]
  },
  {
   "cell_type": "markdown",
   "metadata": {},
   "source": [
    "\n",
    "Funneled Bayesian Optimization for Design, Tuning\n",
    "and Control of Autonomous Systems https://arxiv.org/pdf/1610.00366.pdf \n",
    "\n",
    "A Bayesian Exploration-Exploitation Approach for Optimal Online\n",
    "Sensing and Planning with a Visually Guided Mobile Robot https://www.cs.ubc.ca/~nando/papers/aplj4.pdf"
   ]
  },
  {
   "cell_type": "markdown",
   "metadata": {},
   "source": []
  }
 ],
 "metadata": {
  "kernelspec": {
   "display_name": "Python 3",
   "language": "python",
   "name": "python3"
  },
  "language_info": {
   "codemirror_mode": {
    "name": "ipython",
    "version": 3
   },
   "file_extension": ".py",
   "mimetype": "text/x-python",
   "name": "python",
   "nbconvert_exporter": "python",
   "pygments_lexer": "ipython3",
   "version": "3.6.5"
  }
 },
 "nbformat": 4,
 "nbformat_minor": 2
}
