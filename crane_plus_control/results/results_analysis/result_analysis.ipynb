{
 "cells": [
  {
   "cell_type": "markdown",
   "metadata": {},
   "source": [
    "## Loading libs"
   ]
  },
  {
   "cell_type": "code",
   "execution_count": 4,
   "metadata": {
    "ExecuteTime": {
     "end_time": "2019-02-08T05:24:38.586255Z",
     "start_time": "2019-02-08T05:24:38.581526Z"
    },
    "scrolled": false
   },
   "outputs": [],
   "source": [
    "import pandas as pd\n",
    "import glob\n",
    "import pprint\n",
    "\n",
    "import matplotlib.pyplot as plt\n",
    "plt.style.use('ggplot')\n",
    "%matplotlib inline\n",
    "\n",
    "from utils.load import get_avg_losses\n",
    "from utils.plot import speedup_factor_plot, avg_speedup_factor_plot\n"
   ]
  },
  {
   "cell_type": "markdown",
   "metadata": {},
   "source": [
    "## Average losses"
   ]
  },
  {
   "cell_type": "code",
   "execution_count": 5,
   "metadata": {
    "ExecuteTime": {
     "end_time": "2019-02-08T05:24:43.563874Z",
     "start_time": "2019-02-08T05:24:38.588509Z"
    }
   },
   "outputs": [
    {
     "name": "stdout",
     "output_type": "stream",
     "text": [
      "# Files: 132 # Runs: 3 \n",
      "\n",
      "run_1: 44 files\n",
      "run_2: 44 files\n",
      "run_3: 44 files\n",
      "\n",
      "\n",
      "List of filenames:\n",
      "---------------------------\n",
      "Cano_etal_ompl.csv\n",
      "Burger_etal_gp_BKPIECE.csv\n",
      "Cano_etal_rf_BKPIECE.csv\n",
      "Burger_etal_rand_BiTRRT.csv\n",
      "Burger_etal_tpe_BiTRRT.csv\n",
      "Cano_etal_tpe_BKPIECE.csv\n",
      "Burger_etal_tpe_BKPIECE.csv\n",
      "Cano_etal_gp_BKPIECE.csv\n",
      "Cano_etal_et_BKPIECE.csv\n",
      "Burger_etal_aucbandit_BiTRRT.csv\n",
      "Burger_etal_aucbandit_RRTConnect.csv\n",
      "Burger_etal_et_RRTConnect.csv\n",
      "Burger_etal_rand_RRTConnect.csv\n",
      "Burger_etal_aucbandit_BKPIECE.csv\n",
      "Burger_etal_rf_BiTRRT.csv\n",
      "Burger_etal_gbrt_BiTRRT.csv\n",
      "Cano_etal_rand_RRTConnect.csv\n",
      "Burger_etal_gbrt_BKPIECE.csv\n",
      "Cano_etal_rf_RRTConnect.csv\n",
      "Burger_etal_ompl.csv\n",
      "Burger_etal_gbrt_RRTConnect.csv\n",
      "Burger_etal_et_BKPIECE.csv\n",
      "Burger_etal_smac_RRTConnect.csv\n",
      "Cano_etal_smac_RRTConnect.csv\n",
      "Burger_etal_gp_RRTConnect.csv\n",
      "Cano_etal_et_RRTConnect.csv\n",
      "Cano_etal_smac_BKPIECE.csv\n",
      "Burger_etal_rf_RRTConnect.csv\n",
      "Cano_etal_rand_BKPIECE.csv\n",
      "Burger_etal_et_BiTRRT.csv\n",
      "Cano_etal_gbrt_RRTConnect.csv\n",
      "Burger_etal_rand_BKPIECE.csv\n",
      "Burger_etal_smac_BiTRRT.csv\n",
      "Burger_etal_default.csv\n",
      "Cano_etal_gbrt_BKPIECE.csv\n",
      "Cano_etal_aucbandit_BKPIECE.csv\n",
      "Cano_etal_aucbandit_RRTConnect.csv\n",
      "Burger_etal_gp_BiTRRT.csv\n",
      "Burger_etal_tpe_RRTConnect.csv\n",
      "Burger_etal_rf_BKPIECE.csv\n",
      "Cano_etal_tpe_RRTConnect.csv\n",
      "Cano_etal_gp_RRTConnect.csv\n",
      "Cano_etal_default.csv\n",
      "Burger_etal_smac_BKPIECE.csv\n"
     ]
    },
    {
     "data": {
      "text/html": [
       "<div>\n",
       "<style scoped>\n",
       "    .dataframe tbody tr th:only-of-type {\n",
       "        vertical-align: middle;\n",
       "    }\n",
       "\n",
       "    .dataframe tbody tr th {\n",
       "        vertical-align: top;\n",
       "    }\n",
       "\n",
       "    .dataframe thead th {\n",
       "        text-align: right;\n",
       "    }\n",
       "</style>\n",
       "<table border=\"1\" class=\"dataframe\">\n",
       "  <thead>\n",
       "    <tr style=\"text-align: right;\">\n",
       "      <th></th>\n",
       "      <th>Cano_etal_ompl_BKPIECE</th>\n",
       "      <th>Cano_etal_ompl_RRTConnect</th>\n",
       "      <th>Burger_etal_gp_BKPIECE</th>\n",
       "      <th>Cano_etal_rf_BKPIECE</th>\n",
       "      <th>Burger_etal_rand_BiTRRT</th>\n",
       "      <th>Burger_etal_tpe_BiTRRT</th>\n",
       "      <th>Cano_etal_tpe_BKPIECE</th>\n",
       "      <th>Burger_etal_tpe_BKPIECE</th>\n",
       "      <th>Cano_etal_gp_BKPIECE</th>\n",
       "      <th>Cano_etal_et_BKPIECE</th>\n",
       "      <th>...</th>\n",
       "      <th>Cano_etal_aucbandit_BKPIECE</th>\n",
       "      <th>Cano_etal_aucbandit_RRTConnect</th>\n",
       "      <th>Burger_etal_gp_BiTRRT</th>\n",
       "      <th>Burger_etal_tpe_RRTConnect</th>\n",
       "      <th>Burger_etal_rf_BKPIECE</th>\n",
       "      <th>Cano_etal_tpe_RRTConnect</th>\n",
       "      <th>Cano_etal_gp_RRTConnect</th>\n",
       "      <th>Cano_etal_default_RRTConnect</th>\n",
       "      <th>Cano_etal_default_BKPIECE</th>\n",
       "      <th>Burger_etal_smac_BKPIECE</th>\n",
       "    </tr>\n",
       "  </thead>\n",
       "  <tbody>\n",
       "    <tr>\n",
       "      <th>00:00:00</th>\n",
       "      <td>1.590309</td>\n",
       "      <td>0.211099</td>\n",
       "      <td>2.696523</td>\n",
       "      <td>2.135278</td>\n",
       "      <td>0.824219</td>\n",
       "      <td>0.398186</td>\n",
       "      <td>2.316467</td>\n",
       "      <td>1.655337</td>\n",
       "      <td>1.714505</td>\n",
       "      <td>2.456693</td>\n",
       "      <td>...</td>\n",
       "      <td>3.000000</td>\n",
       "      <td>0.493213</td>\n",
       "      <td>0.438820</td>\n",
       "      <td>1.982801</td>\n",
       "      <td>2.182347</td>\n",
       "      <td>1.079745</td>\n",
       "      <td>0.600708</td>\n",
       "      <td>0.198452</td>\n",
       "      <td>1.005983</td>\n",
       "      <td>0.760991</td>\n",
       "    </tr>\n",
       "    <tr>\n",
       "      <th>00:00:02</th>\n",
       "      <td>1.590309</td>\n",
       "      <td>0.211099</td>\n",
       "      <td>2.696523</td>\n",
       "      <td>2.135278</td>\n",
       "      <td>0.824219</td>\n",
       "      <td>0.398186</td>\n",
       "      <td>2.316467</td>\n",
       "      <td>1.655337</td>\n",
       "      <td>1.714505</td>\n",
       "      <td>2.456693</td>\n",
       "      <td>...</td>\n",
       "      <td>3.000000</td>\n",
       "      <td>0.493213</td>\n",
       "      <td>0.438820</td>\n",
       "      <td>1.982801</td>\n",
       "      <td>2.182347</td>\n",
       "      <td>1.079745</td>\n",
       "      <td>0.600708</td>\n",
       "      <td>0.198452</td>\n",
       "      <td>1.005983</td>\n",
       "      <td>0.873869</td>\n",
       "    </tr>\n",
       "    <tr>\n",
       "      <th>00:00:04</th>\n",
       "      <td>1.590309</td>\n",
       "      <td>0.211099</td>\n",
       "      <td>2.657992</td>\n",
       "      <td>2.093338</td>\n",
       "      <td>0.824219</td>\n",
       "      <td>0.421760</td>\n",
       "      <td>2.316467</td>\n",
       "      <td>1.655337</td>\n",
       "      <td>1.714505</td>\n",
       "      <td>2.456693</td>\n",
       "      <td>...</td>\n",
       "      <td>3.000000</td>\n",
       "      <td>0.493688</td>\n",
       "      <td>0.438820</td>\n",
       "      <td>1.922304</td>\n",
       "      <td>2.143274</td>\n",
       "      <td>1.085512</td>\n",
       "      <td>0.600708</td>\n",
       "      <td>0.198452</td>\n",
       "      <td>1.005983</td>\n",
       "      <td>0.986747</td>\n",
       "    </tr>\n",
       "    <tr>\n",
       "      <th>00:00:06</th>\n",
       "      <td>1.590309</td>\n",
       "      <td>0.211099</td>\n",
       "      <td>2.580930</td>\n",
       "      <td>2.173280</td>\n",
       "      <td>0.793389</td>\n",
       "      <td>0.468908</td>\n",
       "      <td>2.316467</td>\n",
       "      <td>1.655337</td>\n",
       "      <td>1.575264</td>\n",
       "      <td>2.350667</td>\n",
       "      <td>...</td>\n",
       "      <td>2.666077</td>\n",
       "      <td>0.494638</td>\n",
       "      <td>0.438820</td>\n",
       "      <td>1.940867</td>\n",
       "      <td>2.298744</td>\n",
       "      <td>1.097046</td>\n",
       "      <td>0.600708</td>\n",
       "      <td>0.198452</td>\n",
       "      <td>1.005983</td>\n",
       "      <td>1.099624</td>\n",
       "    </tr>\n",
       "    <tr>\n",
       "      <th>00:00:08</th>\n",
       "      <td>1.590309</td>\n",
       "      <td>0.211099</td>\n",
       "      <td>2.503867</td>\n",
       "      <td>2.253222</td>\n",
       "      <td>0.731730</td>\n",
       "      <td>0.516055</td>\n",
       "      <td>2.351115</td>\n",
       "      <td>1.774574</td>\n",
       "      <td>1.436022</td>\n",
       "      <td>2.240411</td>\n",
       "      <td>...</td>\n",
       "      <td>2.332154</td>\n",
       "      <td>0.499251</td>\n",
       "      <td>0.435693</td>\n",
       "      <td>2.038489</td>\n",
       "      <td>2.454214</td>\n",
       "      <td>1.074835</td>\n",
       "      <td>0.600453</td>\n",
       "      <td>0.198452</td>\n",
       "      <td>1.005983</td>\n",
       "      <td>1.212502</td>\n",
       "    </tr>\n",
       "  </tbody>\n",
       "</table>\n",
       "<p>5 rows × 50 columns</p>\n",
       "</div>"
      ],
      "text/plain": [
       "          Cano_etal_ompl_BKPIECE  Cano_etal_ompl_RRTConnect  \\\n",
       "00:00:00                1.590309                   0.211099   \n",
       "00:00:02                1.590309                   0.211099   \n",
       "00:00:04                1.590309                   0.211099   \n",
       "00:00:06                1.590309                   0.211099   \n",
       "00:00:08                1.590309                   0.211099   \n",
       "\n",
       "          Burger_etal_gp_BKPIECE  Cano_etal_rf_BKPIECE  \\\n",
       "00:00:00                2.696523              2.135278   \n",
       "00:00:02                2.696523              2.135278   \n",
       "00:00:04                2.657992              2.093338   \n",
       "00:00:06                2.580930              2.173280   \n",
       "00:00:08                2.503867              2.253222   \n",
       "\n",
       "          Burger_etal_rand_BiTRRT  Burger_etal_tpe_BiTRRT  \\\n",
       "00:00:00                 0.824219                0.398186   \n",
       "00:00:02                 0.824219                0.398186   \n",
       "00:00:04                 0.824219                0.421760   \n",
       "00:00:06                 0.793389                0.468908   \n",
       "00:00:08                 0.731730                0.516055   \n",
       "\n",
       "          Cano_etal_tpe_BKPIECE  Burger_etal_tpe_BKPIECE  \\\n",
       "00:00:00               2.316467                 1.655337   \n",
       "00:00:02               2.316467                 1.655337   \n",
       "00:00:04               2.316467                 1.655337   \n",
       "00:00:06               2.316467                 1.655337   \n",
       "00:00:08               2.351115                 1.774574   \n",
       "\n",
       "          Cano_etal_gp_BKPIECE  Cano_etal_et_BKPIECE  \\\n",
       "00:00:00              1.714505              2.456693   \n",
       "00:00:02              1.714505              2.456693   \n",
       "00:00:04              1.714505              2.456693   \n",
       "00:00:06              1.575264              2.350667   \n",
       "00:00:08              1.436022              2.240411   \n",
       "\n",
       "                    ...             Cano_etal_aucbandit_BKPIECE  \\\n",
       "00:00:00            ...                                3.000000   \n",
       "00:00:02            ...                                3.000000   \n",
       "00:00:04            ...                                3.000000   \n",
       "00:00:06            ...                                2.666077   \n",
       "00:00:08            ...                                2.332154   \n",
       "\n",
       "          Cano_etal_aucbandit_RRTConnect  Burger_etal_gp_BiTRRT  \\\n",
       "00:00:00                        0.493213               0.438820   \n",
       "00:00:02                        0.493213               0.438820   \n",
       "00:00:04                        0.493688               0.438820   \n",
       "00:00:06                        0.494638               0.438820   \n",
       "00:00:08                        0.499251               0.435693   \n",
       "\n",
       "          Burger_etal_tpe_RRTConnect  Burger_etal_rf_BKPIECE  \\\n",
       "00:00:00                    1.982801                2.182347   \n",
       "00:00:02                    1.982801                2.182347   \n",
       "00:00:04                    1.922304                2.143274   \n",
       "00:00:06                    1.940867                2.298744   \n",
       "00:00:08                    2.038489                2.454214   \n",
       "\n",
       "          Cano_etal_tpe_RRTConnect  Cano_etal_gp_RRTConnect  \\\n",
       "00:00:00                  1.079745                 0.600708   \n",
       "00:00:02                  1.079745                 0.600708   \n",
       "00:00:04                  1.085512                 0.600708   \n",
       "00:00:06                  1.097046                 0.600708   \n",
       "00:00:08                  1.074835                 0.600453   \n",
       "\n",
       "          Cano_etal_default_RRTConnect  Cano_etal_default_BKPIECE  \\\n",
       "00:00:00                      0.198452                   1.005983   \n",
       "00:00:02                      0.198452                   1.005983   \n",
       "00:00:04                      0.198452                   1.005983   \n",
       "00:00:06                      0.198452                   1.005983   \n",
       "00:00:08                      0.198452                   1.005983   \n",
       "\n",
       "          Burger_etal_smac_BKPIECE  \n",
       "00:00:00                  0.760991  \n",
       "00:00:02                  0.873869  \n",
       "00:00:04                  0.986747  \n",
       "00:00:06                  1.099624  \n",
       "00:00:08                  1.212502  \n",
       "\n",
       "[5 rows x 50 columns]"
      ]
     },
     "execution_count": 5,
     "metadata": {},
     "output_type": "execute_result"
    }
   ],
   "source": [
    "avg_losses = get_avg_losses()\n",
    "avg_losses.head()"
   ]
  },
  {
   "cell_type": "markdown",
   "metadata": {},
   "source": [
    "## Speedup Factor Plots\n",
    "**speedup_factor_plot:** Plots speedup factor plot of given run, planner select and planner\n",
    "\n",
    "    speedup_factor_plot(run, planner_select, planner, benchmark='ompl', mode_select=None, figsize=[15,10])\n",
    "    \n",
    "**avg_speedup_factor_plot:**  Plots average speedup factor plot over all runs of given planner select and planner\n",
    "\n",
    "    avg_speedup_factor_plot(avg_losses, planner_select, planner, benchmark='ompl', mode_select=None, figsize=[15,10])\n",
    "    \n",
    "- ***benchmark:*** 'default' or 'ompl'\n",
    "- ***mode_select:*** list of desired modes to plot *eg. ['aucbandit', 'smac', 'tpe']*\n",
    "- ***figsize:*** [x, y]    "
   ]
  },
  {
   "cell_type": "markdown",
   "metadata": {},
   "source": [
    "### Cano_etal BKPIECE"
   ]
  },
  {
   "cell_type": "code",
   "execution_count": 6,
   "metadata": {
    "ExecuteTime": {
     "end_time": "2019-02-08T05:24:43.880315Z",
     "start_time": "2019-02-08T05:24:43.565799Z"
    },
    "scrolled": false
   },
   "outputs": [
    {
     "data": {
      "image/png": "[encoded data removed]",
      "text/plain": [
       "<Figure size 1080x720 with 1 Axes>"
      ]
     },
     "metadata": {},
     "output_type": "display_data"
    }
   ],
   "source": [
    "avg_speedup_factor_plot(avg_losses, 'Cano_etal', 'BKPIECE')"
   ]
  },
  {
   "cell_type": "code",
   "execution_count": 7,
   "metadata": {
    "ExecuteTime": {
     "end_time": "2019-02-08T05:24:43.885588Z",
     "start_time": "2019-02-08T05:24:43.882778Z"
    },
    "scrolled": false
   },
   "outputs": [],
   "source": [
    "# speedup_factor_plot(1, 'Cano_etal','BKPIECE')\n",
    "# speedup_factor_plot(2, 'Cano_etal','BKPIECE')\n",
    "# speedup_factor_plot(3, 'Cano_etal','BKPIECE')"
   ]
  },
  {
   "cell_type": "markdown",
   "metadata": {
    "ExecuteTime": {
     "end_time": "2019-01-31T17:08:13.501793Z",
     "start_time": "2019-01-31T17:08:13.494808Z"
    }
   },
   "source": [
    "### Cano_etal RRTConnect\n"
   ]
  },
  {
   "cell_type": "code",
   "execution_count": 8,
   "metadata": {
    "ExecuteTime": {
     "end_time": "2019-02-08T05:24:44.145568Z",
     "start_time": "2019-02-08T05:24:43.887933Z"
    }
   },
   "outputs": [
    {
     "data": {
      "image/png": "[encoded data removed]",
      "text/plain": [
       "<Figure size 1080x720 with 1 Axes>"
      ]
     },
     "metadata": {},
     "output_type": "display_data"
    }
   ],
   "source": [
    "avg_speedup_factor_plot(avg_losses, 'Cano_etal', 'RRTConnect')"
   ]
  },
  {
   "cell_type": "code",
   "execution_count": 9,
   "metadata": {
    "ExecuteTime": {
     "end_time": "2019-02-08T05:24:44.155531Z",
     "start_time": "2019-02-08T05:24:44.147127Z"
    },
    "scrolled": false
   },
   "outputs": [],
   "source": [
    "# speedup_factor_plot(1, 'Cano_etal','RRTConnect')\n",
    "# speedup_factor_plot(2, 'Cano_etal','RRTConnect')\n",
    "# speedup_factor_plot(3, 'Cano_etal','RRTConnect')"
   ]
  },
  {
   "cell_type": "markdown",
   "metadata": {
    "ExecuteTime": {
     "end_time": "2019-01-31T17:06:41.130423Z",
     "start_time": "2019-01-31T17:06:41.068591Z"
    }
   },
   "source": [
    "### Burger_etal BKPIECE"
   ]
  },
  {
   "cell_type": "code",
   "execution_count": 10,
   "metadata": {
    "ExecuteTime": {
     "end_time": "2019-02-08T05:24:44.422543Z",
     "start_time": "2019-02-08T05:24:44.158076Z"
    }
   },
   "outputs": [
    {
     "data": {
      "image/png": "[encoded data removed]",
      "text/plain": [
       "<Figure size 1080x720 with 1 Axes>"
      ]
     },
     "metadata": {},
     "output_type": "display_data"
    }
   ],
   "source": [
    "avg_speedup_factor_plot(avg_losses, 'Burger_etal', 'BKPIECE')"
   ]
  },
  {
   "cell_type": "code",
   "execution_count": 11,
   "metadata": {
    "ExecuteTime": {
     "end_time": "2019-02-08T05:24:44.435642Z",
     "start_time": "2019-02-08T05:24:44.424026Z"
    },
    "scrolled": false
   },
   "outputs": [],
   "source": [
    "# speedup_factor_plot(1, 'Burger_etal','BKPIECE')\n",
    "# speedup_factor_plot(2, 'Burger_etal','BKPIECE')\n",
    "# speedup_factor_plot(3, 'Burger_etal','BKPIECE')"
   ]
  },
  {
   "cell_type": "markdown",
   "metadata": {},
   "source": [
    "### Burger_etal RRTConnect"
   ]
  },
  {
   "cell_type": "code",
   "execution_count": 12,
   "metadata": {
    "ExecuteTime": {
     "end_time": "2019-02-08T05:24:44.691334Z",
     "start_time": "2019-02-08T05:24:44.437188Z"
    },
    "scrolled": false
   },
   "outputs": [
    {
     "data": {
      "image/png": "[encoded data removed]",
      "text/plain": [
       "<Figure size 1080x720 with 1 Axes>"
      ]
     },
     "metadata": {},
     "output_type": "display_data"
    }
   ],
   "source": [
    "avg_speedup_factor_plot(avg_losses, 'Burger_etal', 'RRTConnect')"
   ]
  },
  {
   "cell_type": "code",
   "execution_count": 13,
   "metadata": {
    "ExecuteTime": {
     "end_time": "2019-02-08T05:24:44.696856Z",
     "start_time": "2019-02-08T05:24:44.693108Z"
    }
   },
   "outputs": [],
   "source": [
    "# speedup_factor_plot(1, 'Burger_etal','RRTConnect')\n",
    "# speedup_factor_plot(2, 'Burger_etal','RRTConnect')\n",
    "# speedup_factor_plot(3, 'Burger_etal','RRTConnect')"
   ]
  },
  {
   "cell_type": "markdown",
   "metadata": {},
   "source": [
    "### Burger_etal BiTRRT"
   ]
  },
  {
   "cell_type": "code",
   "execution_count": 14,
   "metadata": {
    "ExecuteTime": {
     "end_time": "2019-02-08T05:24:44.957580Z",
     "start_time": "2019-02-08T05:24:44.699863Z"
    }
   },
   "outputs": [
    {
     "data": {
      "image/png": "[encoded data removed]",
      "text/plain": [
       "<Figure size 1080x720 with 1 Axes>"
      ]
     },
     "metadata": {},
     "output_type": "display_data"
    }
   ],
   "source": [
    "avg_speedup_factor_plot(avg_losses, 'Burger_etal', 'BiTRRT', benchmark='ompl')"
   ]
  },
  {
   "cell_type": "code",
   "execution_count": 15,
   "metadata": {
    "ExecuteTime": {
     "end_time": "2019-02-08T05:24:44.961426Z",
     "start_time": "2019-02-08T05:24:44.959048Z"
    },
    "scrolled": false
   },
   "outputs": [],
   "source": [
    "# speedup_factor_plot(1, 'Burger_etal','BiTRRT')\n",
    "# speedup_factor_plot(2, 'Burger_etal','BiTRRT')\n",
    "# speedup_factor_plot(3, 'Burger_etal','BiTRRT')"
   ]
  },
  {
   "cell_type": "markdown",
   "metadata": {},
   "source": [
    "## Min Plantimes"
   ]
  },
  {
   "cell_type": "code",
   "execution_count": 16,
   "metadata": {
    "ExecuteTime": {
     "end_time": "2019-02-08T05:24:44.989898Z",
     "start_time": "2019-02-08T05:24:44.963655Z"
    }
   },
   "outputs": [
    {
     "data": {
      "text/html": [
       "<div>\n",
       "<style scoped>\n",
       "    .dataframe tbody tr th:only-of-type {\n",
       "        vertical-align: middle;\n",
       "    }\n",
       "\n",
       "    .dataframe tbody tr th {\n",
       "        vertical-align: top;\n",
       "    }\n",
       "\n",
       "    .dataframe thead th {\n",
       "        text-align: right;\n",
       "    }\n",
       "</style>\n",
       "<table border=\"1\" class=\"dataframe\">\n",
       "  <thead>\n",
       "    <tr style=\"text-align: right;\">\n",
       "      <th></th>\n",
       "      <th>Cano_etal_ompl_BKPIECE</th>\n",
       "      <th>Cano_etal_ompl_RRTConnect</th>\n",
       "      <th>Burger_etal_gp_BKPIECE</th>\n",
       "      <th>Cano_etal_rf_BKPIECE</th>\n",
       "      <th>Burger_etal_rand_BiTRRT</th>\n",
       "      <th>Burger_etal_tpe_BiTRRT</th>\n",
       "      <th>Cano_etal_tpe_BKPIECE</th>\n",
       "      <th>Burger_etal_tpe_BKPIECE</th>\n",
       "      <th>Cano_etal_gp_BKPIECE</th>\n",
       "      <th>Cano_etal_et_BKPIECE</th>\n",
       "      <th>...</th>\n",
       "      <th>Cano_etal_aucbandit_BKPIECE</th>\n",
       "      <th>Cano_etal_aucbandit_RRTConnect</th>\n",
       "      <th>Burger_etal_gp_BiTRRT</th>\n",
       "      <th>Burger_etal_tpe_RRTConnect</th>\n",
       "      <th>Burger_etal_rf_BKPIECE</th>\n",
       "      <th>Cano_etal_tpe_RRTConnect</th>\n",
       "      <th>Cano_etal_gp_RRTConnect</th>\n",
       "      <th>Cano_etal_default_RRTConnect</th>\n",
       "      <th>Cano_etal_default_BKPIECE</th>\n",
       "      <th>Burger_etal_smac_BKPIECE</th>\n",
       "    </tr>\n",
       "  </thead>\n",
       "  <tbody>\n",
       "    <tr>\n",
       "      <th>00:00:00</th>\n",
       "      <td>1.590309</td>\n",
       "      <td>0.211099</td>\n",
       "      <td>2.696523</td>\n",
       "      <td>2.135278</td>\n",
       "      <td>0.824219</td>\n",
       "      <td>0.398186</td>\n",
       "      <td>2.316467</td>\n",
       "      <td>1.655337</td>\n",
       "      <td>1.714505</td>\n",
       "      <td>2.456693</td>\n",
       "      <td>...</td>\n",
       "      <td>3.000000</td>\n",
       "      <td>0.493213</td>\n",
       "      <td>0.438820</td>\n",
       "      <td>1.982801</td>\n",
       "      <td>2.182347</td>\n",
       "      <td>1.079745</td>\n",
       "      <td>0.600708</td>\n",
       "      <td>0.198452</td>\n",
       "      <td>1.005983</td>\n",
       "      <td>0.760991</td>\n",
       "    </tr>\n",
       "    <tr>\n",
       "      <th>00:00:02</th>\n",
       "      <td>1.590309</td>\n",
       "      <td>0.211099</td>\n",
       "      <td>2.696523</td>\n",
       "      <td>2.135278</td>\n",
       "      <td>0.824219</td>\n",
       "      <td>0.398186</td>\n",
       "      <td>2.316467</td>\n",
       "      <td>1.655337</td>\n",
       "      <td>1.714505</td>\n",
       "      <td>2.456693</td>\n",
       "      <td>...</td>\n",
       "      <td>3.000000</td>\n",
       "      <td>0.493213</td>\n",
       "      <td>0.438820</td>\n",
       "      <td>1.982801</td>\n",
       "      <td>2.182347</td>\n",
       "      <td>1.079745</td>\n",
       "      <td>0.600708</td>\n",
       "      <td>0.198452</td>\n",
       "      <td>1.005983</td>\n",
       "      <td>0.873869</td>\n",
       "    </tr>\n",
       "    <tr>\n",
       "      <th>00:00:04</th>\n",
       "      <td>1.590309</td>\n",
       "      <td>0.211099</td>\n",
       "      <td>2.657992</td>\n",
       "      <td>2.093338</td>\n",
       "      <td>0.824219</td>\n",
       "      <td>0.421760</td>\n",
       "      <td>2.316467</td>\n",
       "      <td>1.655337</td>\n",
       "      <td>1.714505</td>\n",
       "      <td>2.456693</td>\n",
       "      <td>...</td>\n",
       "      <td>3.000000</td>\n",
       "      <td>0.493688</td>\n",
       "      <td>0.438820</td>\n",
       "      <td>1.922304</td>\n",
       "      <td>2.143274</td>\n",
       "      <td>1.085512</td>\n",
       "      <td>0.600708</td>\n",
       "      <td>0.198452</td>\n",
       "      <td>1.005983</td>\n",
       "      <td>0.986747</td>\n",
       "    </tr>\n",
       "    <tr>\n",
       "      <th>00:00:06</th>\n",
       "      <td>1.590309</td>\n",
       "      <td>0.211099</td>\n",
       "      <td>2.580930</td>\n",
       "      <td>2.173280</td>\n",
       "      <td>0.793389</td>\n",
       "      <td>0.468908</td>\n",
       "      <td>2.316467</td>\n",
       "      <td>1.655337</td>\n",
       "      <td>1.575264</td>\n",
       "      <td>2.350667</td>\n",
       "      <td>...</td>\n",
       "      <td>2.666077</td>\n",
       "      <td>0.494638</td>\n",
       "      <td>0.438820</td>\n",
       "      <td>1.940867</td>\n",
       "      <td>2.298744</td>\n",
       "      <td>1.097046</td>\n",
       "      <td>0.600708</td>\n",
       "      <td>0.198452</td>\n",
       "      <td>1.005983</td>\n",
       "      <td>1.099624</td>\n",
       "    </tr>\n",
       "    <tr>\n",
       "      <th>00:00:08</th>\n",
       "      <td>1.590309</td>\n",
       "      <td>0.211099</td>\n",
       "      <td>2.503867</td>\n",
       "      <td>2.253222</td>\n",
       "      <td>0.731730</td>\n",
       "      <td>0.516055</td>\n",
       "      <td>2.351115</td>\n",
       "      <td>1.774574</td>\n",
       "      <td>1.436022</td>\n",
       "      <td>2.240411</td>\n",
       "      <td>...</td>\n",
       "      <td>2.332154</td>\n",
       "      <td>0.499251</td>\n",
       "      <td>0.435693</td>\n",
       "      <td>2.038489</td>\n",
       "      <td>2.454214</td>\n",
       "      <td>1.074835</td>\n",
       "      <td>0.600453</td>\n",
       "      <td>0.198452</td>\n",
       "      <td>1.005983</td>\n",
       "      <td>1.212502</td>\n",
       "    </tr>\n",
       "  </tbody>\n",
       "</table>\n",
       "<p>5 rows × 50 columns</p>\n",
       "</div>"
      ],
      "text/plain": [
       "          Cano_etal_ompl_BKPIECE  Cano_etal_ompl_RRTConnect  \\\n",
       "00:00:00                1.590309                   0.211099   \n",
       "00:00:02                1.590309                   0.211099   \n",
       "00:00:04                1.590309                   0.211099   \n",
       "00:00:06                1.590309                   0.211099   \n",
       "00:00:08                1.590309                   0.211099   \n",
       "\n",
       "          Burger_etal_gp_BKPIECE  Cano_etal_rf_BKPIECE  \\\n",
       "00:00:00                2.696523              2.135278   \n",
       "00:00:02                2.696523              2.135278   \n",
       "00:00:04                2.657992              2.093338   \n",
       "00:00:06                2.580930              2.173280   \n",
       "00:00:08                2.503867              2.253222   \n",
       "\n",
       "          Burger_etal_rand_BiTRRT  Burger_etal_tpe_BiTRRT  \\\n",
       "00:00:00                 0.824219                0.398186   \n",
       "00:00:02                 0.824219                0.398186   \n",
       "00:00:04                 0.824219                0.421760   \n",
       "00:00:06                 0.793389                0.468908   \n",
       "00:00:08                 0.731730                0.516055   \n",
       "\n",
       "          Cano_etal_tpe_BKPIECE  Burger_etal_tpe_BKPIECE  \\\n",
       "00:00:00               2.316467                 1.655337   \n",
       "00:00:02               2.316467                 1.655337   \n",
       "00:00:04               2.316467                 1.655337   \n",
       "00:00:06               2.316467                 1.655337   \n",
       "00:00:08               2.351115                 1.774574   \n",
       "\n",
       "          Cano_etal_gp_BKPIECE  Cano_etal_et_BKPIECE  \\\n",
       "00:00:00              1.714505              2.456693   \n",
       "00:00:02              1.714505              2.456693   \n",
       "00:00:04              1.714505              2.456693   \n",
       "00:00:06              1.575264              2.350667   \n",
       "00:00:08              1.436022              2.240411   \n",
       "\n",
       "                    ...             Cano_etal_aucbandit_BKPIECE  \\\n",
       "00:00:00            ...                                3.000000   \n",
       "00:00:02            ...                                3.000000   \n",
       "00:00:04            ...                                3.000000   \n",
       "00:00:06            ...                                2.666077   \n",
       "00:00:08            ...                                2.332154   \n",
       "\n",
       "          Cano_etal_aucbandit_RRTConnect  Burger_etal_gp_BiTRRT  \\\n",
       "00:00:00                        0.493213               0.438820   \n",
       "00:00:02                        0.493213               0.438820   \n",
       "00:00:04                        0.493688               0.438820   \n",
       "00:00:06                        0.494638               0.438820   \n",
       "00:00:08                        0.499251               0.435693   \n",
       "\n",
       "          Burger_etal_tpe_RRTConnect  Burger_etal_rf_BKPIECE  \\\n",
       "00:00:00                    1.982801                2.182347   \n",
       "00:00:02                    1.982801                2.182347   \n",
       "00:00:04                    1.922304                2.143274   \n",
       "00:00:06                    1.940867                2.298744   \n",
       "00:00:08                    2.038489                2.454214   \n",
       "\n",
       "          Cano_etal_tpe_RRTConnect  Cano_etal_gp_RRTConnect  \\\n",
       "00:00:00                  1.079745                 0.600708   \n",
       "00:00:02                  1.079745                 0.600708   \n",
       "00:00:04                  1.085512                 0.600708   \n",
       "00:00:06                  1.097046                 0.600708   \n",
       "00:00:08                  1.074835                 0.600453   \n",
       "\n",
       "          Cano_etal_default_RRTConnect  Cano_etal_default_BKPIECE  \\\n",
       "00:00:00                      0.198452                   1.005983   \n",
       "00:00:02                      0.198452                   1.005983   \n",
       "00:00:04                      0.198452                   1.005983   \n",
       "00:00:06                      0.198452                   1.005983   \n",
       "00:00:08                      0.198452                   1.005983   \n",
       "\n",
       "          Burger_etal_smac_BKPIECE  \n",
       "00:00:00                  0.760991  \n",
       "00:00:02                  0.873869  \n",
       "00:00:04                  0.986747  \n",
       "00:00:06                  1.099624  \n",
       "00:00:08                  1.212502  \n",
       "\n",
       "[5 rows x 50 columns]"
      ]
     },
     "execution_count": 16,
     "metadata": {},
     "output_type": "execute_result"
    }
   ],
   "source": [
    "avg_losses.head()"
   ]
  },
  {
   "cell_type": "code",
   "execution_count": 17,
   "metadata": {
    "ExecuteTime": {
     "end_time": "2019-02-08T05:24:44.995063Z",
     "start_time": "2019-02-08T05:24:44.991393Z"
    }
   },
   "outputs": [
    {
     "name": "stdout",
     "output_type": "stream",
     "text": [
      "['aucbandit', 'default', 'et', 'gbrt', 'gp', 'ompl', 'rand', 'rf', 'smac', 'tpe']\n",
      "['RRTConnect', 'BiTRRT', 'BKPIECE']\n"
     ]
    }
   ],
   "source": [
    "modes = [c.split('_')[2] for c in avg_losses.columns]\n",
    "modes = sorted(list(set(modes)))\n",
    "print(modes)\n",
    "planners = [c.split('_')[-1] for c in avg_losses.columns]\n",
    "planners = list(set(planners))\n",
    "print(planners)\n"
   ]
  },
  {
   "cell_type": "code",
   "execution_count": 18,
   "metadata": {
    "ExecuteTime": {
     "end_time": "2019-02-08T05:24:45.021289Z",
     "start_time": "2019-02-08T05:24:45.000197Z"
    }
   },
   "outputs": [
    {
     "data": {
      "text/html": [
       "<div>\n",
       "<style scoped>\n",
       "    .dataframe tbody tr th:only-of-type {\n",
       "        vertical-align: middle;\n",
       "    }\n",
       "\n",
       "    .dataframe tbody tr th {\n",
       "        vertical-align: top;\n",
       "    }\n",
       "\n",
       "    .dataframe thead th {\n",
       "        text-align: right;\n",
       "    }\n",
       "</style>\n",
       "<table border=\"1\" class=\"dataframe\">\n",
       "  <thead>\n",
       "    <tr style=\"text-align: right;\">\n",
       "      <th></th>\n",
       "      <th>RRTConnect</th>\n",
       "      <th>BiTRRT</th>\n",
       "      <th>BKPIECE</th>\n",
       "    </tr>\n",
       "  </thead>\n",
       "  <tbody>\n",
       "    <tr>\n",
       "      <th>aucbandit</th>\n",
       "      <td>0.167732</td>\n",
       "      <td>0.231216</td>\n",
       "      <td>0.459635</td>\n",
       "    </tr>\n",
       "    <tr>\n",
       "      <th>default</th>\n",
       "      <td>0.198452</td>\n",
       "      <td>0.212698</td>\n",
       "      <td>0.703196</td>\n",
       "    </tr>\n",
       "    <tr>\n",
       "      <th>et</th>\n",
       "      <td>0.202816</td>\n",
       "      <td>0.282068</td>\n",
       "      <td>0.600108</td>\n",
       "    </tr>\n",
       "    <tr>\n",
       "      <th>gbrt</th>\n",
       "      <td>0.209491</td>\n",
       "      <td>0.355335</td>\n",
       "      <td>0.575008</td>\n",
       "    </tr>\n",
       "    <tr>\n",
       "      <th>gp</th>\n",
       "      <td>0.201751</td>\n",
       "      <td>0.246540</td>\n",
       "      <td>0.354330</td>\n",
       "    </tr>\n",
       "    <tr>\n",
       "      <th>ompl</th>\n",
       "      <td>0.211099</td>\n",
       "      <td>0.786548</td>\n",
       "      <td>1.590309</td>\n",
       "    </tr>\n",
       "    <tr>\n",
       "      <th>rand</th>\n",
       "      <td>0.245045</td>\n",
       "      <td>0.224291</td>\n",
       "      <td>0.578771</td>\n",
       "    </tr>\n",
       "    <tr>\n",
       "      <th>rf</th>\n",
       "      <td>0.243796</td>\n",
       "      <td>0.271140</td>\n",
       "      <td>0.411696</td>\n",
       "    </tr>\n",
       "    <tr>\n",
       "      <th>smac</th>\n",
       "      <td>0.189737</td>\n",
       "      <td>0.198621</td>\n",
       "      <td>0.526744</td>\n",
       "    </tr>\n",
       "    <tr>\n",
       "      <th>tpe</th>\n",
       "      <td>0.184242</td>\n",
       "      <td>0.171299</td>\n",
       "      <td>0.615495</td>\n",
       "    </tr>\n",
       "  </tbody>\n",
       "</table>\n",
       "</div>"
      ],
      "text/plain": [
       "           RRTConnect    BiTRRT   BKPIECE\n",
       "aucbandit    0.167732  0.231216  0.459635\n",
       "default      0.198452  0.212698  0.703196\n",
       "et           0.202816  0.282068  0.600108\n",
       "gbrt         0.209491  0.355335  0.575008\n",
       "gp           0.201751  0.246540  0.354330\n",
       "ompl         0.211099  0.786548  1.590309\n",
       "rand         0.245045  0.224291  0.578771\n",
       "rf           0.243796  0.271140  0.411696\n",
       "smac         0.189737  0.198621  0.526744\n",
       "tpe          0.184242  0.171299  0.615495"
      ]
     },
     "execution_count": 18,
     "metadata": {},
     "output_type": "execute_result"
    }
   ],
   "source": [
    "# summary = pd.Series({'mode': modes})\n",
    "\n",
    "summary = pd.DataFrame()\n",
    "for planner in planners:\n",
    "#planner = planners[0]\n",
    "    planner_sel = [c for c in avg_losses.columns if planner in c]\n",
    "    planner_losses=[]\n",
    "    \n",
    "    for mode in modes:\n",
    "        losses = []\n",
    "        for p in planner_sel:\n",
    "            if p.split('_')[2] == mode:\n",
    "                losses.append(avg_losses[p].min())              \n",
    "        planner_losses.append(min(losses))\n",
    "    summary = pd.concat([summary, pd.DataFrame({planner: planner_losses}, index=modes)],  axis=1)\n",
    "\n",
    "summary"
   ]
  },
  {
   "cell_type": "code",
   "execution_count": 19,
   "metadata": {
    "ExecuteTime": {
     "end_time": "2019-02-08T05:24:45.028413Z",
     "start_time": "2019-02-08T05:24:45.022732Z"
    }
   },
   "outputs": [],
   "source": [
    "summary.to_csv('Total_min_losses.csv')"
   ]
  },
  {
   "cell_type": "code",
   "execution_count": null,
   "metadata": {},
   "outputs": [],
   "source": []
  }
 ],
 "metadata": {
  "kernelspec": {
   "display_name": "Python 3",
   "language": "python",
   "name": "python3"
  },
  "language_info": {
   "codemirror_mode": {
    "name": "ipython",
    "version": 3
   },
   "file_extension": ".py",
   "mimetype": "text/x-python",
   "name": "python",
   "nbconvert_exporter": "python",
   "pygments_lexer": "ipython3",
   "version": "3.6.5"
  },
  "latex_envs": {
   "LaTeX_envs_menu_present": true,
   "autoclose": false,
   "autocomplete": true,
   "bibliofile": "biblio.bib",
   "cite_by": "apalike",
   "current_citInitial": 1,
   "eqLabelWithNumbers": true,
   "eqNumInitial": 1,
   "hotkeys": {
    "equation": "Ctrl-E",
    "itemize": "Ctrl-I"
   },
   "labels_anchors": false,
   "latex_user_defs": false,
   "report_style_numbering": false,
   "user_envs_cfg": false
  },
  "toc": {
   "base_numbering": 1,
   "nav_menu": {},
   "number_sections": true,
   "sideBar": true,
   "skip_h1_title": false,
   "title_cell": "Table of Contents",
   "title_sidebar": "Contents",
   "toc_cell": false,
   "toc_position": {
    "height": "calc(100% - 180px)",
    "left": "10px",
    "top": "150px",
    "width": "256px"
   },
   "toc_section_display": true,
   "toc_window_display": true
  },
  "varInspector": {
   "cols": {
    "lenName": 16,
    "lenType": 16,
    "lenVar": 40
   },
   "kernels_config": {
    "python": {
     "delete_cmd_postfix": "",
     "delete_cmd_prefix": "del ",
     "library": "var_list.py",
     "varRefreshCmd": "print(var_dic_list())"
    },
    "r": {
     "delete_cmd_postfix": ") ",
     "delete_cmd_prefix": "rm(",
     "library": "var_list.r",
     "varRefreshCmd": "cat(var_dic_list()) "
    }
   },
   "position": {
    "height": "376px",
    "left": "1128.98px",
    "right": "90.0167px",
    "top": "94.9833px",
    "width": "636px"
   },
   "types_to_exclude": [
    "module",
    "function",
    "builtin_function_or_method",
    "instance",
    "_Feature"
   ],
   "window_display": false
  }
 },
 "nbformat": 4,
 "nbformat_minor": 2
}
