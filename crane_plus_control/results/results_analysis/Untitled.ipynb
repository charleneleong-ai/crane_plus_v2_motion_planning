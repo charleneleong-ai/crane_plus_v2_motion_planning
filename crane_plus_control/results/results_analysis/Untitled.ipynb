{
 "cells": [
  {
   "cell_type": "code",
   "execution_count": 1,
   "metadata": {
    "ExecuteTime": {
     "end_time": "2019-02-08T04:08:00.360654Z",
     "start_time": "2019-02-08T04:08:00.181580Z"
    }
   },
   "outputs": [],
   "source": [
    "import sys\n",
    "import os\n",
    "from os.path import isfile, join, split\n",
    "import glob\n",
    "import pandas as pd\n",
    "\n",
    "import ast"
   ]
  },
  {
   "cell_type": "code",
   "execution_count": 2,
   "metadata": {
    "ExecuteTime": {
     "end_time": "2019-02-08T04:43:10.524189Z",
     "start_time": "2019-02-08T04:43:10.480560Z"
    }
   },
   "outputs": [
    {
     "data": {
      "text/html": [
       "<div>\n",
       "<style scoped>\n",
       "    .dataframe tbody tr th:only-of-type {\n",
       "        vertical-align: middle;\n",
       "    }\n",
       "\n",
       "    .dataframe tbody tr th {\n",
       "        vertical-align: top;\n",
       "    }\n",
       "\n",
       "    .dataframe thead th {\n",
       "        text-align: right;\n",
       "    }\n",
       "</style>\n",
       "<table border=\"1\" class=\"dataframe\">\n",
       "  <thead>\n",
       "    <tr style=\"text-align: right;\">\n",
       "      <th></th>\n",
       "      <th>fullpath</th>\n",
       "      <th>path</th>\n",
       "      <th>filename</th>\n",
       "    </tr>\n",
       "  </thead>\n",
       "  <tbody>\n",
       "    <tr>\n",
       "      <th>0</th>\n",
       "      <td>param_tests/Burger_etal_tpe_BiTRRT.csv</td>\n",
       "      <td>param_tests</td>\n",
       "      <td>Burger_etal_tpe_BiTRRT.csv</td>\n",
       "    </tr>\n",
       "    <tr>\n",
       "      <th>1</th>\n",
       "      <td>param_tests/Cano_etal_tpe_BKPIECE.csv</td>\n",
       "      <td>param_tests</td>\n",
       "      <td>Cano_etal_tpe_BKPIECE.csv</td>\n",
       "    </tr>\n",
       "    <tr>\n",
       "      <th>2</th>\n",
       "      <td>param_tests/Burger_etal_tpe_BKPIECE.csv</td>\n",
       "      <td>param_tests</td>\n",
       "      <td>Burger_etal_tpe_BKPIECE.csv</td>\n",
       "    </tr>\n",
       "    <tr>\n",
       "      <th>3</th>\n",
       "      <td>param_tests/Cano_etal_gp_BKPIECE.csv</td>\n",
       "      <td>param_tests</td>\n",
       "      <td>Cano_etal_gp_BKPIECE.csv</td>\n",
       "    </tr>\n",
       "    <tr>\n",
       "      <th>4</th>\n",
       "      <td>param_tests/Cano_etal_rand_RRTConnect.csv</td>\n",
       "      <td>param_tests</td>\n",
       "      <td>Cano_etal_rand_RRTConnect.csv</td>\n",
       "    </tr>\n",
       "  </tbody>\n",
       "</table>\n",
       "</div>"
      ],
      "text/plain": [
       "                                    fullpath         path  \\\n",
       "0     param_tests/Burger_etal_tpe_BiTRRT.csv  param_tests   \n",
       "1      param_tests/Cano_etal_tpe_BKPIECE.csv  param_tests   \n",
       "2    param_tests/Burger_etal_tpe_BKPIECE.csv  param_tests   \n",
       "3       param_tests/Cano_etal_gp_BKPIECE.csv  param_tests   \n",
       "4  param_tests/Cano_etal_rand_RRTConnect.csv  param_tests   \n",
       "\n",
       "                        filename  \n",
       "0     Burger_etal_tpe_BiTRRT.csv  \n",
       "1      Cano_etal_tpe_BKPIECE.csv  \n",
       "2    Burger_etal_tpe_BKPIECE.csv  \n",
       "3       Cano_etal_gp_BKPIECE.csv  \n",
       "4  Cano_etal_rand_RRTConnect.csv  "
      ]
     },
     "execution_count": 2,
     "metadata": {},
     "output_type": "execute_result"
    }
   ],
   "source": [
    "files = pd.DataFrame([file for file in glob.glob(\"param_tests/*.csv\")], columns=[\"fullpath\"])\n",
    "files_split = files['fullpath'].str.rsplit(os.sep, 1, expand=True).rename(columns={0: 'path', 1: 'filename'})\n",
    "files = files.join(files_split)\n",
    "files.head()\n",
    "\n"
   ]
  },
  {
   "cell_type": "code",
   "execution_count": 48,
   "metadata": {
    "ExecuteTime": {
     "end_time": "2019-02-08T05:58:26.208762Z",
     "start_time": "2019-02-08T05:58:26.160690Z"
    }
   },
   "outputs": [
    {
     "data": {
      "text/plain": [
       "{'border_fraction': 0.35000000000000003,\n",
       " 'projection_evaluator': 'joints(crane_plus_shoulder_revolute_joint, crane_plus_wrist_joint)',\n",
       " 'range': 0.8,\n",
       " 'failed_expansion_score_factor': 0.8,\n",
       " 'longest_valid_segment_fraction': 0.005,\n",
       " 'min_valid_path_fraction': 0.1,\n",
       " 'type': 'geometric::BKPIECE'}"
      ]
     },
     "execution_count": 48,
     "metadata": {},
     "output_type": "execute_result"
    }
   ],
   "source": [
    "RESULTS_DIR = '../output/final'\n",
    "PLANNER_SELECT = 'Cano_etal'\n",
    "PLANNER = 'BKPIECE'\n",
    "MODE = 'rand'\n",
    "\n",
    "\n",
    "fps = [y for x in os.walk(RESULTS_DIR)\n",
    "                    for y in glob.glob(join(x[0], '*.csv'))\n",
    "                        if (PLANNER_SELECT in y) and \n",
    "                            (PLANNER in y) and\n",
    "                            (MODE in y) ]\n",
    "\n",
    "# Returns a dict of the best run out of all runs with the min loss\n",
    "best_run = {'run': 0, 'min_loss': float('inf')}\n",
    "for fp in fps:\n",
    "    df = pd.read_csv(fp, index_col=False)\n",
    "    df_best_run = df.iloc[df['loss'].idxmin(axis=1)]\n",
    "\n",
    "    if df_best_run['loss'] < best_run['min_loss']:\n",
    "        best_run['min_loss'] = df_best_run['loss']\n",
    "        best_run['min_run'] = df_best_run.to_dict()\n",
    "        best_run['run'] = int(fp.split(os.sep)[-2].split('_')[-1])\n",
    "\n",
    "# Extracts the params set str as dict and sets planner params\n",
    "params_set = ast.literal_eval(best_run['min_run']['params'])\n",
    "\n",
    "params_set"
   ]
  },
  {
   "cell_type": "code",
   "execution_count": 65,
   "metadata": {
    "ExecuteTime": {
     "end_time": "2019-02-08T06:15:38.394113Z",
     "start_time": "2019-02-08T06:15:38.353417Z"
    },
    "code_folding": []
   },
   "outputs": [],
   "source": [
    "default_fps = [y for x in os.walk(RESULTS_DIR)\n",
    "                            for y in glob.glob(join(x[0], '*.csv'))\n",
    "                                if ('default' in y) and\n",
    "                                (PLANNER_SELECT in y)]\n",
    "default_df = pd.DataFrame()\n",
    "for f in default_fps:\n",
    "    df = pd.read_csv(f, index_col=False, sep=',').dropna(axis=1)\n",
    "    df = df[df['planner'].str.contains(PLANNER)]\n",
    "    default_df = pd.concat([default_df, df])\n",
    "default_df\n",
    "\n",
    "avg_default = {'run': 'avg_default', 'avg_runs': default_df['avg_runs'].mean(), \n",
    "               't_avg_run_time': default_df['t_avg_run_time'].mean(),\n",
    "               't_avg_plan_time': default_df['t_avg_plan_time'].mean(),\n",
    "               't_avg_dist': default_df['t_avg_dist'].mean(), \n",
    "               't_avg_path_length': default_df['t_avg_path_length'].mean(),\n",
    "               't_avg_success': default_df['t_avg_success'].mean()}"
   ]
  },
  {
   "cell_type": "code",
   "execution_count": 70,
   "metadata": {
    "ExecuteTime": {
     "end_time": "2019-02-08T06:17:02.174623Z",
     "start_time": "2019-02-08T06:17:02.153760Z"
    }
   },
   "outputs": [
    {
     "data": {
      "text/html": [
       "<div>\n",
       "<style scoped>\n",
       "    .dataframe tbody tr th:only-of-type {\n",
       "        vertical-align: middle;\n",
       "    }\n",
       "\n",
       "    .dataframe tbody tr th {\n",
       "        vertical-align: top;\n",
       "    }\n",
       "\n",
       "    .dataframe thead th {\n",
       "        text-align: right;\n",
       "    }\n",
       "</style>\n",
       "<table border=\"1\" class=\"dataframe\">\n",
       "  <thead>\n",
       "    <tr style=\"text-align: right;\">\n",
       "      <th></th>\n",
       "      <th>run</th>\n",
       "      <th>avg_runs</th>\n",
       "      <th>t_avg_run_time</th>\n",
       "      <th>t_avg_plan_time</th>\n",
       "      <th>t_avg_dist</th>\n",
       "      <th>t_avg_path_length</th>\n",
       "      <th>t_avg_success</th>\n",
       "    </tr>\n",
       "  </thead>\n",
       "  <tbody>\n",
       "    <tr>\n",
       "      <th>0</th>\n",
       "      <td>avg_default</td>\n",
       "      <td>5.0</td>\n",
       "      <td>1.481679</td>\n",
       "      <td>1.005983</td>\n",
       "      <td>1.58939</td>\n",
       "      <td>7.525043</td>\n",
       "      <td>0.933333</td>\n",
       "    </tr>\n",
       "  </tbody>\n",
       "</table>\n",
       "</div>"
      ],
      "text/plain": [
       "           run  avg_runs  t_avg_run_time  t_avg_plan_time  t_avg_dist  \\\n",
       "0  avg_default       5.0        1.481679         1.005983     1.58939   \n",
       "\n",
       "   t_avg_path_length  t_avg_success  \n",
       "0           7.525043       0.933333  "
      ]
     },
     "execution_count": 70,
     "metadata": {},
     "output_type": "execute_result"
    }
   ],
   "source": [
    "df_avg_default= pd.DataFrame(avg_default, index=[0])\n",
    "df_avg_default"
   ]
  },
  {
   "cell_type": "code",
   "execution_count": 79,
   "metadata": {
    "ExecuteTime": {
     "end_time": "2019-02-08T06:28:15.773984Z",
     "start_time": "2019-02-08T06:28:15.764203Z"
    }
   },
   "outputs": [
    {
     "data": {
      "text/plain": [
       "\"{'longest_valid_segment_fraction': 0.005, 'border_fraction': 0.5, 'projection_evaluator': 'joints(crane_plus_shoulder_revolute_joint, crane_plus_wrist_joint)', 'range': 1.0, 'failed_expansion_score_factor': 0.5, 'min_valid_path_fraction': 0.5, 'type': 'geometric::BKPIECE'}\""
      ]
     },
     "execution_count": 79,
     "metadata": {},
     "output_type": "execute_result"
    }
   ],
   "source": [
    "default_df.iloc[0]['params']"
   ]
  },
  {
   "cell_type": "code",
   "execution_count": 37,
   "metadata": {
    "ExecuteTime": {
     "end_time": "2019-02-08T05:51:23.865624Z",
     "start_time": "2019-02-08T05:51:23.849867Z"
    }
   },
   "outputs": [
    {
     "data": {
      "text/plain": [
       "{'border_fraction': 0.35000000000000003,\n",
       " 'projection_evaluator': 'joints(crane_plus_shoulder_revolute_joint, crane_plus_wrist_joint)',\n",
       " 'range': 0.8,\n",
       " 'failed_expansion_score_factor': 0.8,\n",
       " 'longest_valid_segment_fraction': 0.005,\n",
       " 'min_valid_path_fraction': 0.1,\n",
       " 'type': 'geometric::BKPIECE'}"
      ]
     },
     "execution_count": 37,
     "metadata": {},
     "output_type": "execute_result"
    }
   ],
   "source": [
    "params_set = ast.literal_eval(min['min_run']['params'])\n",
    "params_set.update({'type':'geometric::'+PLANNER})\n",
    "\n",
    "params_set"
   ]
  },
  {
   "cell_type": "code",
   "execution_count": 29,
   "metadata": {
    "ExecuteTime": {
     "end_time": "2019-02-08T05:37:20.322024Z",
     "start_time": "2019-02-08T05:37:20.292077Z"
    }
   },
   "outputs": [
    {
     "ename": "NameError",
     "evalue": "name 'dfs' is not defined",
     "output_type": "error",
     "traceback": [
      "\u001b[0;31m---------------------------------------------------------------------------\u001b[0m",
      "\u001b[0;31mNameError\u001b[0m                                 Traceback (most recent call last)",
      "\u001b[0;32m<ipython-input-29-ce9443f0d432>\u001b[0m in \u001b[0;36m<module>\u001b[0;34m()\u001b[0m\n\u001b[0;32m----> 1\u001b[0;31m \u001b[0mdfs\u001b[0m\u001b[0;34m[\u001b[0m\u001b[0;36m0\u001b[0m\u001b[0;34m]\u001b[0m\u001b[0;34m[\u001b[0m\u001b[0;34m'loss'\u001b[0m\u001b[0;34m]\u001b[0m\u001b[0;34m.\u001b[0m\u001b[0midxmin\u001b[0m\u001b[0;34m(\u001b[0m\u001b[0maxis\u001b[0m\u001b[0;34m=\u001b[0m\u001b[0;36m1\u001b[0m\u001b[0;34m)\u001b[0m\u001b[0;34m\u001b[0m\u001b[0m\n\u001b[0m",
      "\u001b[0;31mNameError\u001b[0m: name 'dfs' is not defined"
     ]
    }
   ],
   "source": [
    "dfs[0]['loss'].idxmin(axis=1)"
   ]
  },
  {
   "cell_type": "code",
   "execution_count": null,
   "metadata": {
    "ExecuteTime": {
     "end_time": "2019-02-08T04:04:00.069840Z",
     "start_time": "2019-02-08T04:04:00.037374Z"
    }
   },
   "outputs": [],
   "source": [
    "min = dfs[0].iloc[dfs[0]['loss'].idxmin(axis=1)]"
   ]
  },
  {
   "cell_type": "code",
   "execution_count": null,
   "metadata": {
    "ExecuteTime": {
     "end_time": "2019-02-08T04:03:56.574199Z",
     "start_time": "2019-02-08T04:03:56.402934Z"
    }
   },
   "outputs": [],
   "source": [
    "min['loss']"
   ]
  },
  {
   "cell_type": "code",
   "execution_count": null,
   "metadata": {
    "ExecuteTime": {
     "end_time": "2019-02-06T05:11:12.821459Z",
     "start_time": "2019-02-06T05:11:12.739924Z"
    }
   },
   "outputs": [],
   "source": [
    "min['f'] = 2"
   ]
  },
  {
   "cell_type": "code",
   "execution_count": null,
   "metadata": {},
   "outputs": [],
   "source": []
  }
 ],
 "metadata": {
  "kernelspec": {
   "display_name": "Python 3",
   "language": "python",
   "name": "python3"
  },
  "language_info": {
   "codemirror_mode": {
    "name": "ipython",
    "version": 3
   },
   "file_extension": ".py",
   "mimetype": "text/x-python",
   "name": "python",
   "nbconvert_exporter": "python",
   "pygments_lexer": "ipython3",
   "version": "3.6.5"
  },
  "toc": {
   "base_numbering": 1,
   "nav_menu": {},
   "number_sections": true,
   "sideBar": true,
   "skip_h1_title": false,
   "title_cell": "Table of Contents",
   "title_sidebar": "Contents",
   "toc_cell": false,
   "toc_position": {},
   "toc_section_display": true,
   "toc_window_display": false
  },
  "varInspector": {
   "cols": {
    "lenName": 16,
    "lenType": 16,
    "lenVar": 40
   },
   "kernels_config": {
    "python": {
     "delete_cmd_postfix": "",
     "delete_cmd_prefix": "del ",
     "library": "var_list.py",
     "varRefreshCmd": "print(var_dic_list())"
    },
    "r": {
     "delete_cmd_postfix": ") ",
     "delete_cmd_prefix": "rm(",
     "library": "var_list.r",
     "varRefreshCmd": "cat(var_dic_list()) "
    }
   },
   "types_to_exclude": [
    "module",
    "function",
    "builtin_function_or_method",
    "instance",
    "_Feature"
   ],
   "window_display": false
  }
 },
 "nbformat": 4,
 "nbformat_minor": 2
}
