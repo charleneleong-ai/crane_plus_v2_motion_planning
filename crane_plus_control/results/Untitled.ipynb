{
 "cells": [
  {
   "cell_type": "code",
   "execution_count": 72,
   "metadata": {
    "ExecuteTime": {
     "end_time": "2019-02-06T05:35:48.846865Z",
     "start_time": "2019-02-06T05:35:48.842003Z"
    }
   },
   "outputs": [],
   "source": [
    "import sys\n",
    "import os\n",
    "from os.path import isfile, join, split\n",
    "import glob\n",
    "import pandas as pd\n",
    "\n",
    "import ast"
   ]
  },
  {
   "cell_type": "code",
   "execution_count": 80,
   "metadata": {
    "ExecuteTime": {
     "end_time": "2019-02-06T11:25:52.309415Z",
     "start_time": "2019-02-06T11:25:52.295445Z"
    }
   },
   "outputs": [
    {
     "data": {
      "text/html": [
       "<div>\n",
       "<style scoped>\n",
       "    .dataframe tbody tr th:only-of-type {\n",
       "        vertical-align: middle;\n",
       "    }\n",
       "\n",
       "    .dataframe tbody tr th {\n",
       "        vertical-align: top;\n",
       "    }\n",
       "\n",
       "    .dataframe thead th {\n",
       "        text-align: right;\n",
       "    }\n",
       "</style>\n",
       "<table border=\"1\" class=\"dataframe\">\n",
       "  <thead>\n",
       "    <tr style=\"text-align: right;\">\n",
       "      <th></th>\n",
       "      <th>fullpath</th>\n",
       "      <th>path</th>\n",
       "      <th>filename</th>\n",
       "    </tr>\n",
       "  </thead>\n",
       "  <tbody>\n",
       "    <tr>\n",
       "      <th>0</th>\n",
       "      <td>param_tests/Burger_etal_gp_BKPIECE.csv</td>\n",
       "      <td>param_tests</td>\n",
       "      <td>Burger_etal_gp_BKPIECE.csv</td>\n",
       "    </tr>\n",
       "    <tr>\n",
       "      <th>1</th>\n",
       "      <td>param_tests/Cano_etal_rf_BKPIECE.csv</td>\n",
       "      <td>param_tests</td>\n",
       "      <td>Cano_etal_rf_BKPIECE.csv</td>\n",
       "    </tr>\n",
       "    <tr>\n",
       "      <th>2</th>\n",
       "      <td>param_tests/Burger_etal_rand_BiTRRT.csv</td>\n",
       "      <td>param_tests</td>\n",
       "      <td>Burger_etal_rand_BiTRRT.csv</td>\n",
       "    </tr>\n",
       "    <tr>\n",
       "      <th>3</th>\n",
       "      <td>param_tests/Burger_etal_tpe_BiTRRT.csv</td>\n",
       "      <td>param_tests</td>\n",
       "      <td>Burger_etal_tpe_BiTRRT.csv</td>\n",
       "    </tr>\n",
       "    <tr>\n",
       "      <th>4</th>\n",
       "      <td>param_tests/Cano_etal_tpe_BKPIECE.csv</td>\n",
       "      <td>param_tests</td>\n",
       "      <td>Cano_etal_tpe_BKPIECE.csv</td>\n",
       "    </tr>\n",
       "  </tbody>\n",
       "</table>\n",
       "</div>"
      ],
      "text/plain": [
       "                                  fullpath         path  \\\n",
       "0   param_tests/Burger_etal_gp_BKPIECE.csv  param_tests   \n",
       "1     param_tests/Cano_etal_rf_BKPIECE.csv  param_tests   \n",
       "2  param_tests/Burger_etal_rand_BiTRRT.csv  param_tests   \n",
       "3   param_tests/Burger_etal_tpe_BiTRRT.csv  param_tests   \n",
       "4    param_tests/Cano_etal_tpe_BKPIECE.csv  param_tests   \n",
       "\n",
       "                      filename  \n",
       "0   Burger_etal_gp_BKPIECE.csv  \n",
       "1     Cano_etal_rf_BKPIECE.csv  \n",
       "2  Burger_etal_rand_BiTRRT.csv  \n",
       "3   Burger_etal_tpe_BiTRRT.csv  \n",
       "4    Cano_etal_tpe_BKPIECE.csv  "
      ]
     },
     "execution_count": 80,
     "metadata": {},
     "output_type": "execute_result"
    }
   ],
   "source": [
    "files = pd.DataFrame([file for file in glob.glob(\"param_tests/*.csv\")], columns=[\"fullpath\"])\n",
    "files_split = files['fullpath'].str.rsplit(os.sep, 1, expand=True).rename(columns={0: 'path', 1: 'filename'})\n",
    "files = files.join(files_split)\n",
    "files.head()\n",
    "\n"
   ]
  },
  {
   "cell_type": "code",
   "execution_count": 52,
   "metadata": {
    "ExecuteTime": {
     "end_time": "2019-02-06T05:17:21.091710Z",
     "start_time": "2019-02-06T05:17:21.083724Z"
    }
   },
   "outputs": [
    {
     "name": "stdout",
     "output_type": "stream",
     "text": [
      "['final/run_1/Burger_etal_tpe_BiTRRT.csv', 'final/run_2/Burger_etal_tpe_BiTRRT.csv', 'final/run_3/Burger_etal_tpe_BiTRRT.csv']\n"
     ]
    }
   ],
   "source": [
    "\n",
    "fps = [y for x in os.walk(RESULTS_DIR) \n",
    "        for y in glob.glob(join(x[0], '*.csv'))\n",
    "        if (PLANNER_SELECT in y) and (PLANNER in y) and (MODE in y)]\n",
    "print(fps)\n"
   ]
  },
  {
   "cell_type": "code",
   "execution_count": 63,
   "metadata": {
    "ExecuteTime": {
     "end_time": "2019-02-06T05:24:00.935037Z",
     "start_time": "2019-02-06T05:24:00.883954Z"
    },
    "code_folding": []
   },
   "outputs": [
    {
     "data": {
      "text/plain": [
       "{'run': 1,\n",
       " 'min_loss': 0.09288311004638672,\n",
       " 'min_run': {'n_trial': 819,\n",
       "  'elapsed_time': 5323.456987142563,\n",
       "  'loss': 0.09288311004638672,\n",
       "  'planner': 'BiTRRTkConfigDefault',\n",
       "  'avg_runs': 1,\n",
       "  't_avg_run_time': 2.499364852905273,\n",
       "  't_avg_plan_time': 0.09288311004638672,\n",
       "  't_avg_dist': 1.7026452140022013,\n",
       "  't_avg_path_length': 7.626462697995594,\n",
       "  't_avg_success': 1.0,\n",
       "  'params': \"{'init_temperature': 0.00032214779766333496, 'range': 6.889318657222672, 'temp_change_factor': 0.9252437447548464, 'frountier_node_ratio': 0.8419300813927757, 'type': 'geometric::BiTRRT', 'cost_threshold': 41034.578942039516, 'frountier_threshold': 0.4249649312206198}\"}}"
      ]
     },
     "execution_count": 63,
     "metadata": {},
     "output_type": "execute_result"
    }
   ],
   "source": [
    "min = {'run': 0, 'min_loss': float('inf')}\n",
    "for fp in fps:\n",
    "    # dfs.append(pd.read_csv(f, index_col=False))\n",
    "    df = pd.read_csv(fp, index_col=False)\n",
    "    df_min_run = df.iloc[df['loss'].idxmin(axis=1)]\n",
    "    if df_min_run['loss'] < min['min_loss']:\n",
    "        min['min_loss'] = df_min_run['loss']\n",
    "        min['min_run'] = df_min_run.to_dict()\n",
    "        min['run']  = int(fp.split(os.sep)[-2].split('_')[-1])\n",
    "\n",
    "min\n"
   ]
  },
  {
   "cell_type": "code",
   "execution_count": 74,
   "metadata": {
    "ExecuteTime": {
     "end_time": "2019-02-06T05:35:57.271479Z",
     "start_time": "2019-02-06T05:35:57.265790Z"
    }
   },
   "outputs": [
    {
     "data": {
      "text/plain": [
       "{'init_temperature': 0.00032214779766333496,\n",
       " 'range': 6.889318657222672,\n",
       " 'temp_change_factor': 0.9252437447548464,\n",
       " 'frountier_node_ratio': 0.8419300813927757,\n",
       " 'type': 'geometric::BiTRRT',\n",
       " 'cost_threshold': 41034.578942039516,\n",
       " 'frountier_threshold': 0.4249649312206198}"
      ]
     },
     "execution_count": 74,
     "metadata": {},
     "output_type": "execute_result"
    }
   ],
   "source": [
    "params_set = ast.literal_eval(min['min_run']['params'])\n",
    "params_set.update({'type':'geometric::'+PLANNER})\n",
    "\n",
    "params_set"
   ]
  },
  {
   "cell_type": "code",
   "execution_count": 22,
   "metadata": {
    "ExecuteTime": {
     "end_time": "2019-02-06T05:01:36.749819Z",
     "start_time": "2019-02-06T05:01:36.744683Z"
    }
   },
   "outputs": [
    {
     "data": {
      "text/plain": [
       "818"
      ]
     },
     "execution_count": 22,
     "metadata": {},
     "output_type": "execute_result"
    }
   ],
   "source": [
    "dfs[0]['loss'].idxmin(axis=1)"
   ]
  },
  {
   "cell_type": "code",
   "execution_count": 41,
   "metadata": {
    "ExecuteTime": {
     "end_time": "2019-02-06T05:09:12.535458Z",
     "start_time": "2019-02-06T05:09:12.530119Z"
    }
   },
   "outputs": [],
   "source": [
    "min = dfs[0].iloc[dfs[0]['loss'].idxmin(axis=1)]"
   ]
  },
  {
   "cell_type": "code",
   "execution_count": 42,
   "metadata": {
    "ExecuteTime": {
     "end_time": "2019-02-06T05:09:16.887086Z",
     "start_time": "2019-02-06T05:09:16.880497Z"
    }
   },
   "outputs": [
    {
     "data": {
      "text/plain": [
       "0.09288311004638672"
      ]
     },
     "execution_count": 42,
     "metadata": {},
     "output_type": "execute_result"
    }
   ],
   "source": [
    "min['loss']"
   ]
  },
  {
   "cell_type": "code",
   "execution_count": 43,
   "metadata": {
    "ExecuteTime": {
     "end_time": "2019-02-06T05:11:12.821459Z",
     "start_time": "2019-02-06T05:11:12.739924Z"
    }
   },
   "outputs": [
    {
     "name": "stderr",
     "output_type": "stream",
     "text": [
      "/home/charlene/apps/anaconda3/lib/python3.6/site-packages/ipykernel_launcher.py:1: SettingWithCopyWarning: \n",
      "A value is trying to be set on a copy of a slice from a DataFrame\n",
      "\n",
      "See the caveats in the documentation: http://pandas.pydata.org/pandas-docs/stable/indexing.html#indexing-view-versus-copy\n",
      "  \"\"\"Entry point for launching an IPython kernel.\n",
      "/home/charlene/apps/anaconda3/lib/python3.6/site-packages/pandas/core/series.py:914: SettingWithCopyWarning: \n",
      "A value is trying to be set on a copy of a slice from a DataFrame\n",
      "\n",
      "See the caveats in the documentation: http://pandas.pydata.org/pandas-docs/stable/indexing.html#indexing-view-versus-copy\n",
      "  self.loc[key] = value\n"
     ]
    }
   ],
   "source": [
    "min['f'] = 2"
   ]
  },
  {
   "cell_type": "code",
   "execution_count": null,
   "metadata": {},
   "outputs": [],
   "source": []
  }
 ],
 "metadata": {
  "kernelspec": {
   "display_name": "Python 3",
   "language": "python",
   "name": "python3"
  },
  "language_info": {
   "codemirror_mode": {
    "name": "ipython",
    "version": 3
   },
   "file_extension": ".py",
   "mimetype": "text/x-python",
   "name": "python",
   "nbconvert_exporter": "python",
   "pygments_lexer": "ipython3",
   "version": "3.6.5"
  },
  "toc": {
   "base_numbering": 1,
   "nav_menu": {},
   "number_sections": true,
   "sideBar": true,
   "skip_h1_title": false,
   "title_cell": "Table of Contents",
   "title_sidebar": "Contents",
   "toc_cell": false,
   "toc_position": {},
   "toc_section_display": true,
   "toc_window_display": false
  },
  "varInspector": {
   "cols": {
    "lenName": 16,
    "lenType": 16,
    "lenVar": 40
   },
   "kernels_config": {
    "python": {
     "delete_cmd_postfix": "",
     "delete_cmd_prefix": "del ",
     "library": "var_list.py",
     "varRefreshCmd": "print(var_dic_list())"
    },
    "r": {
     "delete_cmd_postfix": ") ",
     "delete_cmd_prefix": "rm(",
     "library": "var_list.r",
     "varRefreshCmd": "cat(var_dic_list()) "
    }
   },
   "types_to_exclude": [
    "module",
    "function",
    "builtin_function_or_method",
    "instance",
    "_Feature"
   ],
   "window_display": false
  }
 },
 "nbformat": 4,
 "nbformat_minor": 2
}
