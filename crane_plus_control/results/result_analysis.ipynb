{
 "cells": [
  {
   "cell_type": "code",
   "execution_count": 1,
   "metadata": {
    "ExecuteTime": {
     "end_time": "2019-01-31T17:58:02.336056Z",
     "start_time": "2019-01-31T17:58:00.294942Z"
    }
   },
   "outputs": [
    {
     "data": {
      "text/plain": [
       "['Burger_etal_aucbandit_BiRRT.csv',\n",
       " 'Burger_etal_aucbandit_RRTConnect.csv',\n",
       " 'Burger_etal_default.csv',\n",
       " 'Burger_etal_ompl.csv',\n",
       " 'Burger_etal_rand_BiRRT.csv',\n",
       " 'Burger_etal_rand_BKPiece.csv',\n",
       " 'Burger_etal_rand_RRTConnect.csv',\n",
       " 'Burger_etal_smac_BiRRT.csv',\n",
       " 'Burger_etal_smac_BKPiece.csv',\n",
       " 'Burger_etal_smac_RRTConnect.csv',\n",
       " 'Burger_etal_tpe_BiRRT.csv',\n",
       " 'Burger_etal_tpe_BKPiece.csv',\n",
       " 'Burger_etal_tpe_RRTConnect.csv',\n",
       " 'Cano_etal_aucbandit_BKPiece.csv',\n",
       " 'Cano_etal_aucbandit_RRTConnect.csv',\n",
       " 'Cano_etal_default.csv',\n",
       " 'Cano_etal_gp_BKPiece.csv',\n",
       " 'Cano_etal_gp_RRTConnect.csv',\n",
       " 'Cano_etal_ompl.csv',\n",
       " 'Cano_etal_rand_BKPiece.csv',\n",
       " 'Cano_etal_rand_RRTConnect.csv',\n",
       " 'Cano_etal_rf_BKPiece.csv',\n",
       " 'Cano_etal_tpe_BKPiece.csv',\n",
       " 'Cano_etal_tpe_RRTConnect.csv']"
      ]
     },
     "execution_count": 1,
     "metadata": {},
     "output_type": "execute_result"
    }
   ],
   "source": [
    "import pandas as pd\n",
    "from os import listdir\n",
    "from os.path import isfile, join\n",
    "\n",
    "dir = 'final/'\n",
    "results_fps = [f for f in listdir(dir) if isfile(join(dir, f))]\n",
    "results_fps"
   ]
  },
  {
   "cell_type": "code",
   "execution_count": null,
   "metadata": {
    "ExecuteTime": {
     "end_time": "2019-01-31T17:07:16.414309Z",
     "start_time": "2019-01-31T17:07:16.396357Z"
    }
   },
   "outputs": [],
   "source": [
    "planner_select = 'Burger_etal'\n",
    "\n",
    "def comparison_plot(planner_select, planner):\n",
    "    pass\n",
    "\n",
    "for ps in ['Cano_etal', 'Burger_etal']:\n",
    "    default_fn = planner_select+'_default.csv'\n",
    "    default_df = pd.read_csv(join(dir, default_fn))\n",
    "    planners = list(default_df['planner'])\n",
    "    for p in planners:\n",
    "        plot = comparison_plot(planner_select, p)\n",
    "\n",
    "#     return plot\n"
   ]
  },
  {
   "cell_type": "code",
   "execution_count": 12,
   "metadata": {
    "ExecuteTime": {
     "end_time": "2019-01-31T18:02:30.487830Z",
     "start_time": "2019-01-31T18:02:29.763995Z"
    }
   },
   "outputs": [
    {
     "name": "stderr",
     "output_type": "stream",
     "text": [
      "C:\\Users\\charl\\Anaconda3\\lib\\site-packages\\scipy\\stats\\stats.py:1713: FutureWarning: Using a non-tuple sequence for multidimensional indexing is deprecated; use `arr[tuple(seq)]` instead of `arr[seq]`. In the future this will be interpreted as an array index, `arr[np.array(seq)]`, which will result either in an error or a different result.\n",
      "  return np.add.reduce(sorted[indexer] * weights, axis=axis) / sumval\n"
     ]
    },
    {
     "name": "stdout",
     "output_type": "stream",
     "text": [
      "Cano_etal_aucbandit_BKPiece.csv\n",
      "Cano_etal_aucbandit_BKPiece.csv\n",
      "Cano_etal_gp_BKPiece.csv\n",
      "Cano_etal_gp_BKPiece.csv\n",
      "Cano_etal_rand_BKPiece.csv\n",
      "Cano_etal_rand_BKPiece.csv\n",
      "Cano_etal_tpe_BKPiece.csv\n",
      "Cano_etal_tpe_BKPiece.csv\n"
     ]
    },
    {
     "data": {
      "text/plain": [
       "<matplotlib.legend.Legend at 0x1f1b6a98860>"
      ]
     },
     "execution_count": 12,
     "metadata": {},
     "output_type": "execute_result"
    },
    {
     "data": {
      "image/png": "[encoded data removed]",
      "text/plain": [
       "<Figure size 1440x720 with 1 Axes>"
      ]
     },
     "metadata": {
      "needs_background": "light"
     },
     "output_type": "display_data"
    }
   ],
   "source": [
    "import re\n",
    "import numpy as np\n",
    "import matplotlib.pyplot as plt\n",
    "from matplotlib.pyplot import figure\n",
    "import seaborn as sns\n",
    "plt.style.use('ggplot')\n",
    "%matplotlib inline\n",
    "plt.rcParams[\"figure.figsize\"] = [20,10]\n",
    "\n",
    "# for f in results_fps:\n",
    "#     if any(x in f for x in [\"default\", \"ompl\"]):\n",
    "#         print(f)\n",
    "# Read default df\n",
    "planner_select = 'Cano_etal'\n",
    "\n",
    "\n",
    "ompl_fn = planner_select+'_ompl.csv'\n",
    "ompl_df = pd.read_csv(join(dir, ompl_fn))\n",
    "planners = list(ompl_df['planner'])\n",
    "# for p in planners:\n",
    "#\n",
    "\n",
    "# def comparison_plot(planner_select, planner):\n",
    "planner = planners[0]\n",
    "elapsed_time = np.linspace(0, 7200, 500)\n",
    "\n",
    "ompl = float(ompl_df[(ompl_df['planner'] == planner)]['t_avg_plan_time'])\n",
    "ompl_df = pd.DataFrame({'elapsed_time': elapsed_time, 'ompl': ompl})\n",
    "ompl_df['ompl'] = ompl/ompl_df['ompl']\n",
    "#plt.plot('elapsed_time', 'ompl', data=ompl_df)\n",
    "sns.regplot(x='elapsed_time',y='ompl',data=ompl_df, fit_reg=True, label='ompl',\n",
    "           scatter=False) \n",
    "\n",
    "\n",
    "default_fn = planner_select+'_default.csv'\n",
    "default_df = pd.read_csv(join(dir, default_fn))\n",
    "default = float(default_df[(default_df['planner'] == planner)]['t_avg_plan_time'])\n",
    "default_df = pd.DataFrame({'elapsed_time': elapsed_time, 'default': default})\n",
    "default_df['default'] = ompl/default_df['default']\n",
    "#plt.plot('elapsed_time', 'default', data=default_df)\n",
    "sns.regplot(x='elapsed_time',y='default',data=default_df, fit_reg=True, label='default',\n",
    "           scatter=False) \n",
    "\n",
    "# Planner select filepaths\n",
    "ps_fps = []\n",
    "modes = []\n",
    "for f in results_fps:\n",
    "    if not any(x in f for x in ['default', 'ompl', 'rf']):\n",
    "        if planner_select in f:\n",
    "            ps_fps.append(f)\n",
    "            # f = <planner_select>_<mode>_<planner>.csv\n",
    "            fn = f.split('_')\n",
    "            planner_fn = fn[-1].split('.')[-2]\n",
    "            mode = fn[2]\n",
    "            # Filtering fns for selected planner\n",
    "            if re.search(planner_fn, planner, re.IGNORECASE):\n",
    "                print(f)\n",
    "                mode_df = pd.read_csv(join(dir, f))\n",
    "                mode_df.drop(mode_df[mode_df.loss == 3.0].index, inplace=True)\n",
    "                mode_df.drop(mode_df[mode_df.loss >= ompl].index, inplace=True)\n",
    "                mode_df = pd.DataFrame({'elapsed_time': mode_df['elapsed_time'], mode: mode_df['loss']})\n",
    "                mode_df[mode+'_factor'] = ompl/mode_df[mode]\n",
    "                print(f)\n",
    "                #plt.plot('elapsed_time', mode+'_factor', data=mode_df)\n",
    "                sns.regplot(x='elapsed_time',y=mode+'_factor',data=mode_df, fit_reg=True, label=mode, \n",
    "                            scatter=False, order=15, ci=None) \n",
    "                # sns.lmplot(x='elapsed_time',y=mode+'_factor',data=mode_df, order=5, scatter=True) \n",
    "                \n",
    "plt.xticks([0, 1440, 2880, 4320, 5760, 7200])   \n",
    "plt.yticks([0.8, 1.6, 2.4, 3.1, 3.9, 4.7])   \n",
    "plt.legend()\n",
    "\n"
   ]
  },
  {
   "cell_type": "code",
   "execution_count": null,
   "metadata": {
    "ExecuteTime": {
     "end_time": "2019-01-31T17:08:13.501793Z",
     "start_time": "2019-01-31T17:08:13.494808Z"
    }
   },
   "outputs": [],
   "source": [
    "ps_fps\n"
   ]
  },
  {
   "cell_type": "code",
   "execution_count": null,
   "metadata": {
    "ExecuteTime": {
     "end_time": "2019-01-31T17:06:36.216553Z",
     "start_time": "2019-01-31T17:06:35.776217Z"
    },
    "scrolled": true
   },
   "outputs": [],
   "source": [
    "f = ps_fps[1]\n",
    "print(f)\n",
    "df = pd.read_csv(join(dir, f))\n",
    "df.insert(3, 'factor', ompl/df['loss'])\n",
    "df.drop(df[df.loss == 3.0].index, inplace=True)\n",
    "df.drop(df[df.loss >= ompl].index, inplace=True)\n",
    "\n",
    "plt.plot('elapsed_time', 'ompl', data=ompl_df)\n",
    "plt.plot('elapsed_time', 'factor', data=df)"
   ]
  },
  {
   "cell_type": "code",
   "execution_count": null,
   "metadata": {
    "ExecuteTime": {
     "end_time": "2019-01-31T17:06:41.130423Z",
     "start_time": "2019-01-31T17:06:41.068591Z"
    }
   },
   "outputs": [],
   "source": [
    "df"
   ]
  },
  {
   "cell_type": "code",
   "execution_count": null,
   "metadata": {
    "ExecuteTime": {
     "end_time": "2019-01-31T16:44:32.926342Z",
     "start_time": "2019-01-31T16:44:32.921389Z"
    }
   },
   "outputs": [],
   "source": [
    "print(default, ompl)"
   ]
  },
  {
   "cell_type": "code",
   "execution_count": null,
   "metadata": {},
   "outputs": [],
   "source": []
  }
 ],
 "metadata": {
  "kernelspec": {
   "display_name": "Python 3",
   "language": "python",
   "name": "python3"
  },
  "language_info": {
   "codemirror_mode": {
    "name": "ipython",
    "version": 3
   },
   "file_extension": ".py",
   "mimetype": "text/x-python",
   "name": "python",
   "nbconvert_exporter": "python",
   "pygments_lexer": "ipython3",
   "version": "3.7.1"
  },
  "toc": {
   "base_numbering": 1,
   "nav_menu": {},
   "number_sections": true,
   "sideBar": true,
   "skip_h1_title": false,
   "title_cell": "Table of Contents",
   "title_sidebar": "Contents",
   "toc_cell": false,
   "toc_position": {},
   "toc_section_display": true,
   "toc_window_display": false
  },
  "varInspector": {
   "cols": {
    "lenName": 16,
    "lenType": 16,
    "lenVar": 40
   },
   "kernels_config": {
    "python": {
     "delete_cmd_postfix": "",
     "delete_cmd_prefix": "del ",
     "library": "var_list.py",
     "varRefreshCmd": "print(var_dic_list())"
    },
    "r": {
     "delete_cmd_postfix": ") ",
     "delete_cmd_prefix": "rm(",
     "library": "var_list.r",
     "varRefreshCmd": "cat(var_dic_list()) "
    }
   },
   "types_to_exclude": [
    "module",
    "function",
    "builtin_function_or_method",
    "instance",
    "_Feature"
   ],
   "window_display": false
  }
 },
 "nbformat": 4,
 "nbformat_minor": 2
}
