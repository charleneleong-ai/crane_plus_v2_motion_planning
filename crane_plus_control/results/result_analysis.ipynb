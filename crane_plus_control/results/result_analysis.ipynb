{
 "cells": [
  {
   "cell_type": "code",
   "execution_count": 1,
   "metadata": {
    "ExecuteTime": {
     "end_time": "2019-02-01T08:03:10.574165Z",
     "start_time": "2019-02-01T08:03:09.714101Z"
    }
   },
   "outputs": [
    {
     "name": "stdout",
     "output_type": "stream",
     "text": [
      "30\n"
     ]
    },
    {
     "data": {
      "text/plain": [
       "['Burger_etal_aucbandit_BiRRT.csv',\n",
       " 'Burger_etal_aucbandit_RRTConnect.csv',\n",
       " 'Burger_etal_default.csv',\n",
       " 'Burger_etal_gp_RRTConnect.csv',\n",
       " 'Burger_etal_ompl.csv',\n",
       " 'Burger_etal_rand_BiRRT.csv',\n",
       " 'Burger_etal_rand_BKPIECE.csv',\n",
       " 'Burger_etal_rand_RRTConnect.csv',\n",
       " 'Burger_etal_rf_BiTRRT.csv',\n",
       " 'Burger_etal_rf_BKPIECE.csv',\n",
       " 'Burger_etal_smac_BiTRRT.csv',\n",
       " 'Burger_etal_smac_BKPIECE.csv',\n",
       " 'Burger_etal_smac_RRTConnect.csv',\n",
       " 'Burger_etal_tpe_BiRRT.csv',\n",
       " 'Burger_etal_tpe_BKPIECE.csv',\n",
       " 'Burger_etal_tpe_RRTConnect.csv',\n",
       " 'Cano_etal_aucbandit_BKPIECE.csv',\n",
       " 'Cano_etal_aucbandit_RRTConnect.csv',\n",
       " 'Cano_etal_default.csv',\n",
       " 'Cano_etal_gp_BKPIECE.csv',\n",
       " 'Cano_etal_gp_RRTConnect.csv',\n",
       " 'Cano_etal_ompl.csv',\n",
       " 'Cano_etal_rand_BKPIECE.csv',\n",
       " 'Cano_etal_rand_RRTConnect.csv',\n",
       " 'Cano_etal_rf_BKPIECE.csv',\n",
       " 'Cano_etal_rf_RRTConnect.csv',\n",
       " 'Cano_etal_smac_BKPIECE.csv',\n",
       " 'Cano_etal_smac_RRTConnect.csv',\n",
       " 'Cano_etal_tpe_BKPIECE.csv',\n",
       " 'Cano_etal_tpe_RRTConnect.csv']"
      ]
     },
     "execution_count": 1,
     "metadata": {},
     "output_type": "execute_result"
    }
   ],
   "source": [
    "import pandas as pd\n",
    "from os import listdir\n",
    "from os.path import isfile, join\n",
    "\n",
    "dir = 'final/'\n",
    "results_fps = [f for f in listdir(dir) if isfile(join(dir, f))]\n",
    "print(len(results_fps))\n",
    "results_fps"
   ]
  },
  {
   "cell_type": "code",
   "execution_count": null,
   "metadata": {
    "ExecuteTime": {
     "end_time": "2019-02-01T04:13:20.461859Z",
     "start_time": "2019-02-01T04:13:20.419208Z"
    }
   },
   "outputs": [],
   "source": [
    "planner_select = 'Burger_etal'\n",
    "\n",
    "def comparison_plot(planner_select, planner):\n",
    "    pass\n",
    "\n",
    "for ps in ['Cano_etal', 'Burger_etal']:\n",
    "    default_fn = planner_select+'_default.csv'\n",
    "    default_df = pd.read_csv(join(dir, default_fn))\n",
    "    planners = list(default_df['planner'])\n",
    "    for p in planners:\n",
    "        plot = comparison_plot(planner_select, p)\n",
    "\n",
    "#     return plot\n"
   ]
  },
  {
   "cell_type": "code",
   "execution_count": 22,
   "metadata": {
    "ExecuteTime": {
     "end_time": "2019-02-01T08:25:35.246103Z",
     "start_time": "2019-02-01T08:25:34.338925Z"
    },
    "scrolled": false
   },
   "outputs": [
    {
     "name": "stdout",
     "output_type": "stream",
     "text": [
      "Cano_etal\n",
      "BKPIECEkConfigDefault\n",
      "Cano_etal_aucbandit_BKPIECE.csv\n",
      "Cano_etal_gp_BKPIECE.csv\n",
      "Cano_etal_rand_BKPIECE.csv\n",
      "Cano_etal_rf_BKPIECE.csv\n",
      "Cano_etal_smac_BKPIECE.csv\n",
      "Cano_etal_tpe_BKPIECE.csv\n"
     ]
    },
    {
     "data": {
      "text/plain": [
       "<matplotlib.legend.Legend at 0x2390370b668>"
      ]
     },
     "execution_count": 22,
     "metadata": {},
     "output_type": "execute_result"
    },
    {
     "data": {
      "image/png": "[encoded data removed]",
      "text/plain": [
       "<Figure size 1440x720 with 1 Axes>"
      ]
     },
     "metadata": {},
     "output_type": "display_data"
    }
   ],
   "source": [
    "import re\n",
    "import numpy as np\n",
    "import matplotlib.pyplot as plt\n",
    "from matplotlib.pyplot import figure\n",
    "import seaborn as sns\n",
    "plt.style.use('ggplot')\n",
    "%matplotlib inline\n",
    "plt.rcParams[\"figure.figsize\"] = [20, 10]\n",
    "\n",
    "# for f in results_fps:\n",
    "#     if any(x in f for x in [\"default\", \"ompl\"]):\n",
    "#         print(f)\n",
    "# Read default df\n",
    "planner_select = 'Cano_etal'\n",
    "print(planner_select)\n",
    "\n",
    "ompl_fn = planner_select+'_ompl.csv'\n",
    "ompl_df = pd.read_csv(join(dir, ompl_fn))\n",
    "planners = list(ompl_df['planner'])\n",
    "# for p in planners:\n",
    "#\n",
    "\n",
    "# def comparison_plot(planner_select, planner):\n",
    "planner = planners[0]\n",
    "print(planner)\n",
    "elapsed_time = np.linspace(0, 7200, 500)\n",
    "\n",
    "ompl = float(ompl_df[(ompl_df['planner'] == planner)]['t_avg_plan_time'])\n",
    "ompl_df = pd.DataFrame({'elapsed_time': elapsed_time, 'ompl': ompl})\n",
    "ompl_df['ompl'] = ompl/ompl_df['ompl']\n",
    "plt.plot('elapsed_time', 'ompl', data=ompl_df)\n",
    "# sns.regplot(x='elapsed_time', y='ompl', data=ompl_df, fit_reg=True, label='ompl',\n",
    "#             scatter=False)\n",
    "\n",
    "\n",
    "default_fn = planner_select+'_default.csv'\n",
    "default_df = pd.read_csv(join(dir, default_fn))\n",
    "default = float(\n",
    "    default_df[(default_df['planner'] == planner)]['t_avg_plan_time'])\n",
    "default_df = pd.DataFrame({'elapsed_time': elapsed_time, 'default': default})\n",
    "default_df['default'] = ompl/default_df['default']\n",
    "plt.plot('elapsed_time', 'default', data=default_df)\n",
    "# sns.regplot(x='elapsed_time', y='default', data=default_df, fit_reg=True, label='default',\n",
    "#             scatter=False)\n",
    "\n",
    "\n",
    "# Planner select filepaths\n",
    "ps_fps = []\n",
    "modes = []\n",
    "speed_up_df = []\n",
    "\n",
    "for f in results_fps:\n",
    "    if planner_select in f:\n",
    "        if not any(x in f for x in ['default', 'ompl']):\n",
    "            ps_fps.append(f)\n",
    "            # f = 'Cano_etal_rand_BKPIECE.csv'\n",
    "            # f = <planner_select>_<mode>_<planner>.csv\n",
    "            fn = f.split('_')\n",
    "            planner_fn = fn[-1].split('.')[-2]\n",
    "            mode = fn[2]\n",
    "            # Filtering fns for selected planner\n",
    "            if re.search(planner_fn, planner, re.IGNORECASE):\n",
    "                print(f)\n",
    "                mode_df = pd.read_csv(join(dir, f), index_col=False)\n",
    "                # Remove everything slower than ompl baseline\n",
    "                # mode_df.drop(mode_df[mode_df.loss >= ompl].index, inplace=True)\n",
    "                max_speed_up = ompl\n",
    "                speed_up = list(mode_df['loss'])\n",
    "                for idx, loss in enumerate(speed_up):\n",
    "                    if loss < max_speed_up:\n",
    "                        max_speed_up = loss\n",
    "                    else:\n",
    "                        speed_up[idx] = max_speed_up\n",
    "\n",
    "                mode_df = pd.DataFrame(\n",
    "                    {'elapsed_time': mode_df['elapsed_time'], mode: speed_up})\n",
    "                mode_df[mode+'_factor'] = ompl/mode_df[mode]\n",
    "                plt.plot('elapsed_time', mode+'_factor', data=mode_df)\n",
    "                # sns.regplot(x='elapsed_time', y=mode+'_factor', data=mode_df, fit_reg=True, label=mode,\n",
    "                # scatter=False, robust=True, ci=None)\n",
    "                # sns.lmplot(x='elapsed_time',y=mode+'_factor',data=mode_df, order=5, scatter=True)\n",
    "\n",
    "plt.xticks([0, 1440, 2880, 4320, 5760, 7200])\n",
    "plt.yticks([0.8, 1.6, 2.4, 3.1, 3.9, 4.7])\n",
    "plt.legend()"
   ]
  },
  {
   "cell_type": "code",
   "execution_count": 12,
   "metadata": {
    "ExecuteTime": {
     "end_time": "2019-02-01T08:16:34.613164Z",
     "start_time": "2019-02-01T08:16:34.558108Z"
    }
   },
   "outputs": [
    {
     "data": {
      "text/html": [
       "<div>\n",
       "<style scoped>\n",
       "    .dataframe tbody tr th:only-of-type {\n",
       "        vertical-align: middle;\n",
       "    }\n",
       "\n",
       "    .dataframe tbody tr th {\n",
       "        vertical-align: top;\n",
       "    }\n",
       "\n",
       "    .dataframe thead th {\n",
       "        text-align: right;\n",
       "    }\n",
       "</style>\n",
       "<table border=\"1\" class=\"dataframe\">\n",
       "  <thead>\n",
       "    <tr style=\"text-align: right;\">\n",
       "      <th></th>\n",
       "      <th>n_trial</th>\n",
       "      <th>elapsed_time</th>\n",
       "      <th>loss</th>\n",
       "      <th>planner</th>\n",
       "      <th>avg_runs</th>\n",
       "      <th>t_avg_run_time</th>\n",
       "      <th>t_avg_plan_time</th>\n",
       "      <th>t_avg_dist</th>\n",
       "      <th>t_avg_path_length</th>\n",
       "      <th>t_avg_success</th>\n",
       "      <th>params</th>\n",
       "    </tr>\n",
       "  </thead>\n",
       "  <tbody>\n",
       "    <tr>\n",
       "      <th>1</th>\n",
       "      <td>4.110242</td>\n",
       "      <td>0.547041</td>\n",
       "      <td>BKPIECEkConfigDefault</td>\n",
       "      <td>1</td>\n",
       "      <td>1.798658</td>\n",
       "      <td>0.547041</td>\n",
       "      <td>1.702806</td>\n",
       "      <td>7.274183</td>\n",
       "      <td>1.0</td>\n",
       "      <td>{'longest_valid_segment_fraction': 0.005, 'bor...</td>\n",
       "      <td>NaN</td>\n",
       "    </tr>\n",
       "    <tr>\n",
       "      <th>2</th>\n",
       "      <td>11.938826</td>\n",
       "      <td>3.000000</td>\n",
       "      <td>BKPIECEkConfigDefault</td>\n",
       "      <td>1</td>\n",
       "      <td>0.000000</td>\n",
       "      <td>0.000000</td>\n",
       "      <td>0.000000</td>\n",
       "      <td>0.000000</td>\n",
       "      <td>0.0</td>\n",
       "      <td>{'longest_valid_segment_fraction': 0.005, 'bor...</td>\n",
       "      <td>NaN</td>\n",
       "    </tr>\n",
       "    <tr>\n",
       "      <th>3</th>\n",
       "      <td>15.438924</td>\n",
       "      <td>3.000000</td>\n",
       "      <td>BKPIECEkConfigDefault</td>\n",
       "      <td>1</td>\n",
       "      <td>0.000000</td>\n",
       "      <td>0.000000</td>\n",
       "      <td>0.000000</td>\n",
       "      <td>0.000000</td>\n",
       "      <td>0.0</td>\n",
       "      <td>{'longest_valid_segment_fraction': 0.005, 'bor...</td>\n",
       "      <td>NaN</td>\n",
       "    </tr>\n",
       "    <tr>\n",
       "      <th>4</th>\n",
       "      <td>20.301075</td>\n",
       "      <td>2.886074</td>\n",
       "      <td>BKPIECEkConfigDefault</td>\n",
       "      <td>1</td>\n",
       "      <td>1.577004</td>\n",
       "      <td>2.886074</td>\n",
       "      <td>1.702795</td>\n",
       "      <td>7.186817</td>\n",
       "      <td>1.0</td>\n",
       "      <td>{'longest_valid_segment_fraction': 0.005, 'bor...</td>\n",
       "      <td>NaN</td>\n",
       "    </tr>\n",
       "    <tr>\n",
       "      <th>5</th>\n",
       "      <td>25.569347</td>\n",
       "      <td>3.000000</td>\n",
       "      <td>BKPIECEkConfigDefault</td>\n",
       "      <td>1</td>\n",
       "      <td>0.000000</td>\n",
       "      <td>0.000000</td>\n",
       "      <td>0.000000</td>\n",
       "      <td>0.000000</td>\n",
       "      <td>0.0</td>\n",
       "      <td>{'longest_valid_segment_fraction': 0.005, 'bor...</td>\n",
       "      <td>NaN</td>\n",
       "    </tr>\n",
       "  </tbody>\n",
       "</table>\n",
       "</div>"
      ],
      "text/plain": [
       "     n_trial  elapsed_time                   loss  planner  avg_runs  \\\n",
       "1   4.110242      0.547041  BKPIECEkConfigDefault        1  1.798658   \n",
       "2  11.938826      3.000000  BKPIECEkConfigDefault        1  0.000000   \n",
       "3  15.438924      3.000000  BKPIECEkConfigDefault        1  0.000000   \n",
       "4  20.301075      2.886074  BKPIECEkConfigDefault        1  1.577004   \n",
       "5  25.569347      3.000000  BKPIECEkConfigDefault        1  0.000000   \n",
       "\n",
       "   t_avg_run_time  t_avg_plan_time  t_avg_dist  t_avg_path_length  \\\n",
       "1        0.547041         1.702806    7.274183                1.0   \n",
       "2        0.000000         0.000000    0.000000                0.0   \n",
       "3        0.000000         0.000000    0.000000                0.0   \n",
       "4        2.886074         1.702795    7.186817                1.0   \n",
       "5        0.000000         0.000000    0.000000                0.0   \n",
       "\n",
       "                                       t_avg_success  params  \n",
       "1  {'longest_valid_segment_fraction': 0.005, 'bor...     NaN  \n",
       "2  {'longest_valid_segment_fraction': 0.005, 'bor...     NaN  \n",
       "3  {'longest_valid_segment_fraction': 0.005, 'bor...     NaN  \n",
       "4  {'longest_valid_segment_fraction': 0.005, 'bor...     NaN  \n",
       "5  {'longest_valid_segment_fraction': 0.005, 'bor...     NaN  "
      ]
     },
     "execution_count": 12,
     "metadata": {},
     "output_type": "execute_result"
    }
   ],
   "source": [
    "df = pd.read_csv(join(dir,'Burger_etal_rf_BKPIECE.csv'))\n",
    "df.head()"
   ]
  },
  {
   "cell_type": "code",
   "execution_count": null,
   "metadata": {
    "ExecuteTime": {
     "end_time": "2019-01-31T17:08:13.501793Z",
     "start_time": "2019-01-31T17:08:13.494808Z"
    }
   },
   "outputs": [],
   "source": [
    "ps_fps\n"
   ]
  },
  {
   "cell_type": "code",
   "execution_count": null,
   "metadata": {
    "ExecuteTime": {
     "end_time": "2019-01-31T17:06:36.216553Z",
     "start_time": "2019-01-31T17:06:35.776217Z"
    },
    "scrolled": true
   },
   "outputs": [],
   "source": [
    "f = ps_fps[1]\n",
    "print(f)\n",
    "df = pd.read_csv(join(dir, f))\n",
    "df.insert(3, 'factor', ompl/df['loss'])\n",
    "df.drop(df[df.loss == 3.0].index, inplace=True)\n",
    "df.drop(df[df.loss >= ompl].index, inplace=True)\n",
    "\n",
    "plt.plot('elapsed_time', 'ompl', data=ompl_df)\n",
    "plt.plot('elapsed_time', 'factor', data=df)"
   ]
  },
  {
   "cell_type": "code",
   "execution_count": null,
   "metadata": {
    "ExecuteTime": {
     "end_time": "2019-01-31T17:06:41.130423Z",
     "start_time": "2019-01-31T17:06:41.068591Z"
    }
   },
   "outputs": [],
   "source": [
    "df"
   ]
  },
  {
   "cell_type": "code",
   "execution_count": null,
   "metadata": {
    "ExecuteTime": {
     "end_time": "2019-01-31T16:44:32.926342Z",
     "start_time": "2019-01-31T16:44:32.921389Z"
    }
   },
   "outputs": [],
   "source": [
    "print(default, ompl)"
   ]
  },
  {
   "cell_type": "code",
   "execution_count": null,
   "metadata": {},
   "outputs": [],
   "source": []
  }
 ],
 "metadata": {
  "kernelspec": {
   "display_name": "Python 3",
   "language": "python",
   "name": "python3"
  },
  "language_info": {
   "codemirror_mode": {
    "name": "ipython",
    "version": 3
   },
   "file_extension": ".py",
   "mimetype": "text/x-python",
   "name": "python",
   "nbconvert_exporter": "python",
   "pygments_lexer": "ipython3",
   "version": "3.6.5"
  },
  "latex_envs": {
   "LaTeX_envs_menu_present": true,
   "autoclose": false,
   "autocomplete": true,
   "bibliofile": "biblio.bib",
   "cite_by": "apalike",
   "current_citInitial": 1,
   "eqLabelWithNumbers": true,
   "eqNumInitial": 1,
   "hotkeys": {
    "equation": "Ctrl-E",
    "itemize": "Ctrl-I"
   },
   "labels_anchors": false,
   "latex_user_defs": false,
   "report_style_numbering": false,
   "user_envs_cfg": false
  },
  "toc": {
   "base_numbering": 1,
   "nav_menu": {},
   "number_sections": true,
   "sideBar": true,
   "skip_h1_title": false,
   "title_cell": "Table of Contents",
   "title_sidebar": "Contents",
   "toc_cell": false,
   "toc_position": {},
   "toc_section_display": true,
   "toc_window_display": false
  },
  "varInspector": {
   "cols": {
    "lenName": 16,
    "lenType": 16,
    "lenVar": 40
   },
   "kernels_config": {
    "python": {
     "delete_cmd_postfix": "",
     "delete_cmd_prefix": "del ",
     "library": "var_list.py",
     "varRefreshCmd": "print(var_dic_list())"
    },
    "r": {
     "delete_cmd_postfix": ") ",
     "delete_cmd_prefix": "rm(",
     "library": "var_list.r",
     "varRefreshCmd": "cat(var_dic_list()) "
    }
   },
   "types_to_exclude": [
    "module",
    "function",
    "builtin_function_or_method",
    "instance",
    "_Feature"
   ],
   "window_display": false
  }
 },
 "nbformat": 4,
 "nbformat_minor": 2
}
