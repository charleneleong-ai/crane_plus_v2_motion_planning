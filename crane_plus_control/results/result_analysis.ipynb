{
 "cells": [
  {
   "cell_type": "markdown",
   "metadata": {},
   "source": [
    "## Loading libs"
   ]
  },
  {
   "cell_type": "code",
   "execution_count": 12,
   "metadata": {
    "ExecuteTime": {
     "end_time": "2019-02-06T12:18:21.149143Z",
     "start_time": "2019-02-06T12:18:21.120655Z"
    },
    "scrolled": false
   },
   "outputs": [
    {
     "ename": "ModuleNotFoundError",
     "evalue": "No module named '__main__.utils'; '__main__' is not a package",
     "output_type": "error",
     "traceback": [
      "\u001b[0;31m---------------------------------------------------------------------------\u001b[0m",
      "\u001b[0;31mModuleNotFoundError\u001b[0m                       Traceback (most recent call last)",
      "\u001b[0;32m<ipython-input-12-0d3511e2abc0>\u001b[0m in \u001b[0;36m<module>\u001b[0;34m()\u001b[0m\n\u001b[0;32m----> 1\u001b[0;31m \u001b[0;32mfrom\u001b[0m \u001b[0;34m.\u001b[0m\u001b[0mutils\u001b[0m \u001b[0;32mimport\u001b[0m \u001b[0mfiles\u001b[0m\u001b[0;34m\u001b[0m\u001b[0m\n\u001b[0m\u001b[1;32m      2\u001b[0m \u001b[0;32mimport\u001b[0m \u001b[0mpprint\u001b[0m\u001b[0;34m\u001b[0m\u001b[0m\n\u001b[1;32m      3\u001b[0m \u001b[0;34m\u001b[0m\u001b[0m\n\u001b[1;32m      4\u001b[0m \u001b[0;31m# Factor plot\u001b[0m\u001b[0;34m\u001b[0m\u001b[0;34m\u001b[0m\u001b[0m\n\u001b[1;32m      5\u001b[0m \u001b[0;32mimport\u001b[0m \u001b[0mre\u001b[0m\u001b[0;34m\u001b[0m\u001b[0m\n",
      "\u001b[0;31mModuleNotFoundError\u001b[0m: No module named '__main__.utils'; '__main__' is not a package"
     ]
    }
   ],
   "source": [
    "from .utils import files\n",
    "from\n",
    "import pprint\n",
    "\n",
    "# Factor plot\n",
    "import re\n",
    "import numpy as np\n",
    "import matplotlib.pyplot as plt\n",
    "import matplotlib.cm as mplcm\n",
    "import matplotlib.colors as colors\n",
    "import seaborn as sns\n",
    "plt.style.use('ggplot')\n",
    "plt.rcParams['figure.figsize'] = [15, 10]\n",
    "%matplotlib inline\n",
    "\n",
    "\n",
    "\n",
    "def get_avg_losses():\n",
    "    files, filenames = unique('final/*/*.csv')\n",
    "\n",
    "    # Iterate over unique filenames; read CSVs, concat DFs\n",
    "    avg_losses = pd.DataFrame()\n",
    "    losses =pd.DataFrame()\n",
    "    for fn in filenames:\n",
    "       # fn = files['filename'].unique()[1]\n",
    "        name = fn.split('.')[0]\n",
    "        print(name)\n",
    "\n",
    "        dir, f = split(fn)\n",
    "        f = f.split('_')\n",
    "        if any(x in fn for x in ['default', 'ompl']):\n",
    "            mode = f[-1].split('.')[-2]\n",
    "        else:\n",
    "            planner_fn = f[-1].split('.')[-2]\n",
    "            mode = f[2]  \n",
    "\n",
    "        paths = files[files['filename'] == fn]['fullpath'] # Get list of fullpaths from unique filenames\n",
    "        dfs = []\n",
    "        \n",
    "        losses=pd.DataFrame()\n",
    "        for idx, path in enumerate(paths):\n",
    "            if not any(x in path for x in ['default', 'ompl']):\n",
    "                df = pd.read_csv(path, index_col=False, sep=',').dropna(axis=1)\n",
    "                df_resample = resample(df, '2S')\n",
    "                df_resample = df_resample['loss']     \n",
    "                dfs.append(df_resample) \n",
    "            else:\n",
    "                df = pd.read_csv(path, index_col=False, sep=',').dropna(axis=1)\n",
    "                df_resample = resample(df, '2S')\n",
    "                df_resample = df_resample['t_avg_plan_time']     \n",
    "                dfs.append(df_resample) # Get list of dataframes from CSV file paths\n",
    "\n",
    "            losses = pd.concat([losses, pd.DataFrame({name+str(idx) :df_resample})], axis=1)\n",
    "\n",
    "        avg_losses = pd.concat([avg_losses, pd.DataFrame({name :losses.mean(axis=1)})], axis=1)\n",
    "    return avg_losses\n",
    "\n",
    "def factor_plot(fps, planner_select, planner, mode_select=None):\n",
    "    fps = sorted(fps.copy())\n",
    "    plt.rcParams['figure.figsize'] = [15, 10]\n",
    "    fig,ax = plt.subplots(1)\n",
    "    cm = plt.get_cmap('jet')\n",
    "    ax.set_prop_cycle('color', [cm(i) for i in np.linspace(0, 1, 10)])\n",
    "    dir, fn = split(fps[0])\n",
    "    \n",
    "    elapsed_time = np.linspace(0, 7200, 500)\n",
    "    default_fn = planner_select+'_default.csv'\n",
    "    default_df = pd.read_csv(join(dir, default_fn), index_col=False)\n",
    "    default = float(default_df[(default_df['planner'].str.contains(planner))]['t_avg_plan_time'])\n",
    "    default_df = pd.DataFrame(\n",
    "        {'elapsed_time': elapsed_time, 'default': default})\n",
    "    default_df['default'] = default/default_df['default']\n",
    "    ax.plot('elapsed_time', 'default', data=default_df, label='default')\n",
    "\n",
    "    ompl_fn = planner_select+'_ompl.csv'\n",
    "    ompl_df = pd.read_csv(join(dir, ompl_fn), index_col=False)\n",
    "    ompl = float(ompl_df[(ompl_df['planner'].str.contains(planner))]['t_avg_plan_time'])\n",
    "    ompl_df = pd.DataFrame({'elapsed_time': elapsed_time, 'ompl': ompl})\n",
    "    ompl_df['ompl'] = default/ompl_df['ompl']\n",
    "    ax.plot('elapsed_time', 'ompl', data=ompl_df, label='ompl')\n",
    "    \n",
    "    \n",
    "    # Planner select filepaths\n",
    "    for fp in fps:\n",
    "        if planner_select in fp:\n",
    "            if not any(x in fp for x in ['default', 'ompl']):\n",
    "                # f = <planner_select>_<mode>_<planner>.csv\n",
    "                dir, fn = split(fp)\n",
    "                fn = fn.split('_')\n",
    "                planner_fn = fn[-1].split('.')[-2]\n",
    "                mode = fn[2]\n",
    "                \n",
    "                if (mode_select != None) and (mode not in mode_select):\n",
    "                    fps.remove(fp)\n",
    "                else:\n",
    "                    # Filtering fns for selected planner\n",
    "                    if re.search(planner_fn, planner, re.IGNORECASE): \n",
    "#                         print(fp)\n",
    "                        mode_df = pd.read_csv(fp, index_col=False)\n",
    "                        # Remove everything slower than ompl baseline\n",
    "                        # mode_df.drop(mode_df[mode_df.loss >= ompl].index, inplace=True)\n",
    "                        max_speed_up = default\n",
    "                        speed_up = list(mode_df['loss'])\n",
    "                        for idx, loss in enumerate(speed_up):\n",
    "                            if loss < max_speed_up:\n",
    "                                max_speed_up = loss\n",
    "                            else:\n",
    "                                speed_up[idx] = max_speed_up\n",
    "                                                                   \n",
    "                        mode_df = pd.DataFrame({'elapsed_time': mode_df['elapsed_time'], mode: speed_up})\n",
    "                        mode_df[mode+'_factor'] = default/mode_df[mode]\n",
    "                        ax.plot('elapsed_time', mode+'_factor', data=mode_df, label=mode+'_factor')\n",
    "\n",
    "    \n",
    "    plt.title(planner_select + ' ' + planner)\n",
    "    plt.xticks([0, 1440, 2880, 4320, 5760, 7200])\n",
    "    #                     plt.yticks([0.8, 1.6, 2.4, 3.1, 3.9, 4.7])\n",
    "    plt.xlabel('Time spent exploring solutions (secs)')\n",
    "    plt.ylabel('Speed up over default (secs)')\n",
    "    handles,labels = ax.get_legend_handles_labels()\n",
    "    ax.legend(handles,labels,loc='upper right')\n",
    "    plt.show()\n",
    "\n",
    "def avg_factor_plot(avg_losses, planner_select, planner, benchmark='default', mode_select=None):\n",
    "    plt.rcParams['figure.figsize'] = [15, 10]\n",
    "    df = avg_losses.copy()\n",
    "    def_cols = [planner_select+'_default', planner_select+'_ompl']\n",
    "    cols = [c for c in df.columns if planner_select in c if planner in c]\n",
    "    cols = sorted(cols)\n",
    "    cols = def_cols + cols\n",
    "\n",
    "    ps_df = df[cols]\n",
    "    legend = [c.split('_')[2] for c in cols]\n",
    "    ps_df.columns = legend\n",
    "\n",
    "    bm = float(ps_df['default'][0])\n",
    "    if benchmark == 'ompl':\n",
    "        bm = float(ps_df['ompl'][0])\n",
    "        \n",
    "    speedup_df = pd.DataFrame({'default': bm/ps_df['default'], 'ompl': bm/ps_df['ompl']})\n",
    "    \n",
    "    modes = legend\n",
    "    if (mode_select != None):\n",
    "        modes = ['default', 'ompl']\n",
    "        modes = modes+ mode_select\n",
    "\n",
    "    for mode in modes:\n",
    "        if not any(x in mode for x in ['default', 'ompl']): \n",
    "            speedup = list(ps_df[mode])\n",
    "            max_speedup = bm\n",
    "            for idx, loss in enumerate(speedup):\n",
    "                if loss < max_speedup:\n",
    "                    max_speedup = loss\n",
    "                else:\n",
    "                    speedup[idx] = max_speedup\n",
    "\n",
    "            mode_df = pd.Series(speedup, index=ps_df[mode].index, name=mode)\n",
    "            mode_df = bm/mode_df\n",
    "            speedup_df = pd.concat([speedup_df, mode_df], axis=1)\n",
    "    \n",
    "#     xtick_vals = [0, 1440, 2880, 4320, 5760, 7200] \n",
    "#     xtick_vals =  pd.to_timedelta([datetime.timedelta(seconds=x) for x in xtick_vals])\n",
    "#     xtick_vals = [strdatetime.timedelta(seconds=x)) for x in xtick_vals]\n",
    "# #     print(xticks_vals)\n",
    "    ax = speedup_df.plot(title=planner_select+' '+planner, colormap='jet')\n",
    "    \n",
    "    ax.set_xlabel('Time spent exploring solutions (secs)')\n",
    "    ax.set_ylabel('Speed up over default (secs)')\n",
    "    ax.legend(loc='upper right')\n",
    "\n",
    "\n",
    "#     ax.set_xticks(xticks_vals)\n",
    "#     ax.set_xticklabels(str(xticks_vals))"
   ]
  },
  {
   "cell_type": "code",
   "execution_count": 8,
   "metadata": {
    "ExecuteTime": {
     "end_time": "2019-02-06T12:04:02.455744Z",
     "start_time": "2019-02-06T12:04:02.430792Z"
    }
   },
   "outputs": [
    {
     "ename": "TypeError",
     "evalue": "'bool' object is not callable",
     "output_type": "error",
     "traceback": [
      "\u001b[0;31m---------------------------------------------------------------------------\u001b[0m",
      "\u001b[0;31mTypeError\u001b[0m                                 Traceback (most recent call last)",
      "\u001b[0;32m<ipython-input-8-075863ef2a3f>\u001b[0m in \u001b[0;36m<module>\u001b[0;34m()\u001b[0m\n\u001b[0;32m----> 1\u001b[0;31m \u001b[0mavg_losses\u001b[0m \u001b[0;34m=\u001b[0m \u001b[0mget_avg_losses\u001b[0m\u001b[0;34m(\u001b[0m\u001b[0;34m)\u001b[0m\u001b[0;34m\u001b[0m\u001b[0m\n\u001b[0m\u001b[1;32m      2\u001b[0m \u001b[0mavg_losses\u001b[0m\u001b[0;34m.\u001b[0m\u001b[0mhead\u001b[0m\u001b[0;34m(\u001b[0m\u001b[0;34m)\u001b[0m\u001b[0;34m\u001b[0m\u001b[0m\n",
      "\u001b[0;32m~/catkin_ws/src/crane_plus_v2_motion_planning/crane_plus_control/results/utils.py\u001b[0m in \u001b[0;36mget_avg_losses\u001b[0;34m()\u001b[0m\n\u001b[1;32m    142\u001b[0m     \u001b[0;32mreturn\u001b[0m \u001b[0mdf\u001b[0m\u001b[0;34m\u001b[0m\u001b[0m\n\u001b[1;32m    143\u001b[0m \u001b[0;34m\u001b[0m\u001b[0m\n\u001b[0;32m--> 144\u001b[0;31m \u001b[0;32mdef\u001b[0m \u001b[0mget_avg_losses\u001b[0m\u001b[0;34m(\u001b[0m\u001b[0;34m)\u001b[0m\u001b[0;34m:\u001b[0m\u001b[0;34m\u001b[0m\u001b[0m\n\u001b[0m\u001b[1;32m    145\u001b[0m     \u001b[0mfilenames\u001b[0m \u001b[0;34m=\u001b[0m \u001b[0munique\u001b[0m\u001b[0;34m(\u001b[0m\u001b[0;34m'final/*/*.csv'\u001b[0m\u001b[0;34m)\u001b[0m\u001b[0;34m\u001b[0m\u001b[0m\n\u001b[1;32m    146\u001b[0m \u001b[0;34m\u001b[0m\u001b[0m\n",
      "\u001b[0;32m~/catkin_ws/src/crane_plus_v2_motion_planning/crane_plus_control/results/utils.py\u001b[0m in \u001b[0;36munique\u001b[0;34m(dir, print)\u001b[0m\n\u001b[1;32m     53\u001b[0m     \u001b[0;31m# 1  dir\\..\\*.csv   dir\\..  *.csv\u001b[0m\u001b[0;34m\u001b[0m\u001b[0;34m\u001b[0m\u001b[0m\n\u001b[1;32m     54\u001b[0m     \u001b[0;31m# ..\u001b[0m\u001b[0;34m\u001b[0m\u001b[0;34m\u001b[0m\u001b[0m\n\u001b[0;32m---> 55\u001b[0;31m \u001b[0;34m\u001b[0m\u001b[0m\n\u001b[0m\u001b[1;32m     56\u001b[0m     \u001b[0mprint\u001b[0m\u001b[0;34m(\u001b[0m\u001b[0;34m'# Files: %d # Dirs: %d '\u001b[0m \u001b[0;34m%\u001b[0m \u001b[0;34m(\u001b[0m\u001b[0mlen\u001b[0m\u001b[0;34m(\u001b[0m\u001b[0mfiles\u001b[0m\u001b[0;34m)\u001b[0m\u001b[0;34m,\u001b[0m \u001b[0mlen\u001b[0m\u001b[0;34m(\u001b[0m\u001b[0mfiles_split\u001b[0m\u001b[0;34m[\u001b[0m\u001b[0;34m'path'\u001b[0m\u001b[0;34m]\u001b[0m\u001b[0;34m.\u001b[0m\u001b[0munique\u001b[0m\u001b[0;34m(\u001b[0m\u001b[0;34m)\u001b[0m\u001b[0;34m)\u001b[0m\u001b[0;34m)\u001b[0m\u001b[0;34m)\u001b[0m\u001b[0;34m\u001b[0m\u001b[0m\n\u001b[1;32m     57\u001b[0m \u001b[0;34m\u001b[0m\u001b[0m\n",
      "\u001b[0;31mTypeError\u001b[0m: 'bool' object is not callable"
     ]
    }
   ],
   "source": [
    "avg_losses = get_avg_losses()\n",
    "avg_losses.head()"
   ]
  },
  {
   "cell_type": "markdown",
   "metadata": {},
   "source": [
    "## Speedup Factor Plots"
   ]
  },
  {
   "cell_type": "code",
   "execution_count": null,
   "metadata": {
    "ExecuteTime": {
     "end_time": "2019-02-06T02:00:49.728730Z",
     "start_time": "2019-02-06T02:00:49.723299Z"
    }
   },
   "outputs": [],
   "source": [
    "results_fps_1 = [file for file in glob.glob(join('final', 'run_1', '*.csv'))]\n",
    "print(len(results_fps_1))\n",
    "\n",
    "results_fps_2 = [file for file in glob.glob(join('final', 'run_2', '*.csv'))]\n",
    "print(len(results_fps_2))\n",
    "\n",
    "results_fps_3 = [file for file in glob.glob(join('final', 'run_3', '*.csv'))]\n",
    "print(len(results_fps_3))"
   ]
  },
  {
   "cell_type": "markdown",
   "metadata": {},
   "source": [
    "### Cano_etal BKPIECE"
   ]
  },
  {
   "cell_type": "code",
   "execution_count": null,
   "metadata": {
    "ExecuteTime": {
     "end_time": "2019-02-06T03:03:52.025625Z",
     "start_time": "2019-02-06T03:03:51.769555Z"
    },
    "scrolled": false
   },
   "outputs": [],
   "source": [
    "avg_factor_plot(avg_losses, 'Cano_etal', 'BKPIECE' )"
   ]
  },
  {
   "cell_type": "code",
   "execution_count": null,
   "metadata": {
    "ExecuteTime": {
     "end_time": "2019-02-06T02:54:52.823839Z",
     "start_time": "2019-02-06T02:54:52.820455Z"
    },
    "scrolled": false
   },
   "outputs": [],
   "source": [
    "# factor_plot(results_fps_1, 'Cano_etal', 'BKPIECE')\n",
    "# factor_plot(results_fps_2, 'Cano_etal', 'BKPIECE')\n",
    "# factor_plot(results_fps_3, 'Cano_etal', 'BKPIECE')"
   ]
  },
  {
   "cell_type": "markdown",
   "metadata": {
    "ExecuteTime": {
     "end_time": "2019-01-31T17:08:13.501793Z",
     "start_time": "2019-01-31T17:08:13.494808Z"
    }
   },
   "source": [
    "### Cano_etal RRTConnect\n"
   ]
  },
  {
   "cell_type": "code",
   "execution_count": null,
   "metadata": {
    "ExecuteTime": {
     "end_time": "2019-02-06T02:08:47.037381Z",
     "start_time": "2019-02-06T02:08:46.764031Z"
    }
   },
   "outputs": [],
   "source": [
    "avg_factor_plot(avg_losses, 'Cano_etal', 'RRTConnect')"
   ]
  },
  {
   "cell_type": "code",
   "execution_count": null,
   "metadata": {
    "ExecuteTime": {
     "end_time": "2019-02-06T02:55:07.777117Z",
     "start_time": "2019-02-06T02:55:07.770796Z"
    },
    "scrolled": false
   },
   "outputs": [],
   "source": [
    "# factor_plot(results_fps_1, 'Cano_etal', 'RRTConnect')\n",
    "# factor_plot(results_fps_2, 'Cano_etal', 'RRTConnect')\n",
    "# factor_plot(results_fps_3, 'Cano_etal', 'RRTConnect')"
   ]
  },
  {
   "cell_type": "markdown",
   "metadata": {
    "ExecuteTime": {
     "end_time": "2019-01-31T17:06:41.130423Z",
     "start_time": "2019-01-31T17:06:41.068591Z"
    }
   },
   "source": [
    "### Burger_etal BKPIECE"
   ]
  },
  {
   "cell_type": "code",
   "execution_count": null,
   "metadata": {
    "ExecuteTime": {
     "end_time": "2019-02-06T03:04:06.688156Z",
     "start_time": "2019-02-06T03:04:06.398876Z"
    }
   },
   "outputs": [],
   "source": [
    "avg_factor_plot(avg_losses, 'Burger_etal', 'BKPIECE' ,benchmark='ompl' )"
   ]
  },
  {
   "cell_type": "code",
   "execution_count": null,
   "metadata": {
    "ExecuteTime": {
     "end_time": "2019-02-06T00:05:36.589370Z",
     "start_time": "2019-02-06T00:05:36.388307Z"
    },
    "scrolled": false
   },
   "outputs": [],
   "source": [
    "# factor_plot(results_fps_1, 'Burger_etal', 'BKPIECE')\n",
    "# factor_plot(results_fps_2, 'Burger_etal', 'BKPIECE')\n",
    "# factor_plot(results_fps_3, 'Burger_etal', 'BKPIECE')"
   ]
  },
  {
   "cell_type": "markdown",
   "metadata": {},
   "source": [
    "### Burger_etal RRTConnect"
   ]
  },
  {
   "cell_type": "code",
   "execution_count": null,
   "metadata": {
    "ExecuteTime": {
     "end_time": "2019-02-06T02:09:39.971495Z",
     "start_time": "2019-02-06T02:09:39.676952Z"
    }
   },
   "outputs": [],
   "source": [
    "avg_factor_plot(avg_losses, 'Burger_etal', 'RRTConnect')"
   ]
  },
  {
   "cell_type": "code",
   "execution_count": null,
   "metadata": {
    "ExecuteTime": {
     "end_time": "2019-02-05T23:57:21.502807Z",
     "start_time": "2019-02-05T23:57:21.209459Z"
    }
   },
   "outputs": [],
   "source": [
    "# factor_plot(results_fps_1, 'Burger_etal', 'RRTConnect')\n",
    "# factor_plot(results_fps_2, 'Burger_etal', 'RRTConnect')\n",
    "# factor_plot(results_fps_3, 'Burger_etal', 'RRTConnect')"
   ]
  },
  {
   "cell_type": "markdown",
   "metadata": {},
   "source": [
    "### Burger_etal BiTRRT"
   ]
  },
  {
   "cell_type": "code",
   "execution_count": null,
   "metadata": {
    "ExecuteTime": {
     "end_time": "2019-02-06T02:10:10.072467Z",
     "start_time": "2019-02-06T02:10:09.774071Z"
    }
   },
   "outputs": [],
   "source": [
    "avg_factor_plot(avg_losses, 'Burger_etal', 'BiTRRT')"
   ]
  },
  {
   "cell_type": "code",
   "execution_count": null,
   "metadata": {
    "ExecuteTime": {
     "end_time": "2019-02-05T23:57:33.946175Z",
     "start_time": "2019-02-05T23:57:33.656991Z"
    },
    "scrolled": false
   },
   "outputs": [],
   "source": [
    "# factor_plot(results_fps_1, 'Burger_etal', 'BiTRRT')\n",
    "# factor_plot(results_fps_2, 'Burger_etal', 'BiTRRT')\n",
    "# factor_plot(results_fps_3, 'Burger_etal', 'BiTRRT')"
   ]
  }
 ],
 "metadata": {
  "kernelspec": {
   "display_name": "Python 3",
   "language": "python",
   "name": "python3"
  },
  "language_info": {
   "codemirror_mode": {
    "name": "ipython",
    "version": 3
   },
   "file_extension": ".py",
   "mimetype": "text/x-python",
   "name": "python",
   "nbconvert_exporter": "python",
   "pygments_lexer": "ipython3",
   "version": "3.6.5"
  },
  "latex_envs": {
   "LaTeX_envs_menu_present": true,
   "autoclose": false,
   "autocomplete": true,
   "bibliofile": "biblio.bib",
   "cite_by": "apalike",
   "current_citInitial": 1,
   "eqLabelWithNumbers": true,
   "eqNumInitial": 1,
   "hotkeys": {
    "equation": "Ctrl-E",
    "itemize": "Ctrl-I"
   },
   "labels_anchors": false,
   "latex_user_defs": false,
   "report_style_numbering": false,
   "user_envs_cfg": false
  },
  "toc": {
   "base_numbering": 1,
   "nav_menu": {},
   "number_sections": true,
   "sideBar": true,
   "skip_h1_title": false,
   "title_cell": "Table of Contents",
   "title_sidebar": "Contents",
   "toc_cell": false,
   "toc_position": {
    "height": "calc(100% - 180px)",
    "left": "10px",
    "top": "150px",
    "width": "256px"
   },
   "toc_section_display": true,
   "toc_window_display": true
  },
  "varInspector": {
   "cols": {
    "lenName": 16,
    "lenType": 16,
    "lenVar": 40
   },
   "kernels_config": {
    "python": {
     "delete_cmd_postfix": "",
     "delete_cmd_prefix": "del ",
     "library": "var_list.py",
     "varRefreshCmd": "print(var_dic_list())"
    },
    "r": {
     "delete_cmd_postfix": ") ",
     "delete_cmd_prefix": "rm(",
     "library": "var_list.r",
     "varRefreshCmd": "cat(var_dic_list()) "
    }
   },
   "position": {
    "height": "376px",
    "left": "1123.99px",
    "right": "20px",
    "top": "86.9792px",
    "width": "636px"
   },
   "types_to_exclude": [
    "module",
    "function",
    "builtin_function_or_method",
    "instance",
    "_Feature"
   ],
   "window_display": true
  }
 },
 "nbformat": 4,
 "nbformat_minor": 2
}
