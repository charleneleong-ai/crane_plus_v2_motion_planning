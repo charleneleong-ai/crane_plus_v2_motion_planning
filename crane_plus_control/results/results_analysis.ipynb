{
 "cells": [
  {
   "cell_type": "code",
   "execution_count": 4,
   "metadata": {
    "ExecuteTime": {
     "end_time": "2019-01-31T10:10:48.393433Z",
     "start_time": "2019-01-31T10:10:45.156350Z"
    }
   },
   "outputs": [
    {
     "data": {
      "text/plain": [
       "['Burger_etal_auc_bandit_BiRRT.csv',\n",
       " 'Burger_etal_auc_bandit_RRTConnect.csv',\n",
       " 'Burger_etal_default.csv',\n",
       " 'Burger_etal_ompl.csv',\n",
       " 'Burger_etal_rand_BiRRT.csv',\n",
       " 'Burger_etal_rand_BKPiece.csv',\n",
       " 'Burger_etal_rand_RRTConnect.csv',\n",
       " 'Burger_etal_smac_BiRRT.csv',\n",
       " 'Burger_etal_smac_BKPiece.csv',\n",
       " 'Burger_etal_smac_RRTConnect.csv',\n",
       " 'Burger_etal_tpe_BiRRT.csv',\n",
       " 'Burger_etal_tpe_BKPiece.csv',\n",
       " 'Burger_etal_tpe_RRTConnect.csv',\n",
       " 'Cano_etal_auc_bandit_BKPiece.csv',\n",
       " 'Cano_etal_auc_bandit_RRTConnect.csv',\n",
       " 'Cano_etal_default.csv',\n",
       " 'Cano_etal_gp_BKPiece.csv',\n",
       " 'Cano_etal_gp_RRTConnect.csv',\n",
       " 'Cano_etal_ompl.csv',\n",
       " 'Cano_etal_rand_BKPiece.csv',\n",
       " 'Cano_etal_rand_RRTConnect.csv',\n",
       " 'Cano_etal_rf_BKPiece.csv',\n",
       " 'Cano_etal_tpe_BKPiece.csv',\n",
       " 'Cano_etal_tpe_RRTConnect.csv']"
      ]
     },
     "execution_count": 4,
     "metadata": {},
     "output_type": "execute_result"
    }
   ],
   "source": [
    "import pandas as pd\n",
    "from os import listdir\n",
    "from os.path import isfile, join\n",
    "\n",
    "dir = 'final/'\n",
    "results_fps = [f for f in listdir(dir) if isfile(join(dir, f))]\n",
    "results_fps"
   ]
  },
  {
   "cell_type": "code",
   "execution_count": 5,
   "metadata": {
    "ExecuteTime": {
     "end_time": "2019-01-31T10:10:53.738824Z",
     "start_time": "2019-01-31T10:10:53.517417Z"
    }
   },
   "outputs": [
    {
     "name": "stdout",
     "output_type": "stream",
     "text": [
      "BKPIECEkConfigDefault\n"
     ]
    },
    {
     "data": {
      "text/html": [
       "<div>\n",
       "<style scoped>\n",
       "    .dataframe tbody tr th:only-of-type {\n",
       "        vertical-align: middle;\n",
       "    }\n",
       "\n",
       "    .dataframe tbody tr th {\n",
       "        vertical-align: top;\n",
       "    }\n",
       "\n",
       "    .dataframe thead th {\n",
       "        text-align: right;\n",
       "    }\n",
       "</style>\n",
       "<table border=\"1\" class=\"dataframe\">\n",
       "  <thead>\n",
       "    <tr style=\"text-align: right;\">\n",
       "      <th></th>\n",
       "      <th>planner</th>\n",
       "      <th>scene</th>\n",
       "      <th>query</th>\n",
       "      <th>start_pose</th>\n",
       "      <th>target_pose</th>\n",
       "      <th>avg_runs</th>\n",
       "      <th>avg_run_time</th>\n",
       "      <th>avg_plan_time</th>\n",
       "      <th>avg_dist</th>\n",
       "      <th>avg_path_length</th>\n",
       "      <th>avg_success</th>\n",
       "      <th>params</th>\n",
       "    </tr>\n",
       "  </thead>\n",
       "  <tbody>\n",
       "    <tr>\n",
       "      <th>0</th>\n",
       "      <td>BKPIECEkConfigDefault</td>\n",
       "      <td>narrow_passage</td>\n",
       "      <td>0</td>\n",
       "      <td>vertical</td>\n",
       "      <td>low_fwd_reach</td>\n",
       "      <td>5.0</td>\n",
       "      <td>1.373704</td>\n",
       "      <td>0.412469</td>\n",
       "      <td>1.702731</td>\n",
       "      <td>7.954065</td>\n",
       "      <td>1.0</td>\n",
       "      <td>{'longest_valid_segment_fraction': '0.005', 'b...</td>\n",
       "    </tr>\n",
       "    <tr>\n",
       "      <th>1</th>\n",
       "      <td>NaN</td>\n",
       "      <td>NaN</td>\n",
       "      <td>NaN</td>\n",
       "      <td>NaN</td>\n",
       "      <td>NaN</td>\n",
       "      <td>NaN</td>\n",
       "      <td>NaN</td>\n",
       "      <td>NaN</td>\n",
       "      <td>NaN</td>\n",
       "      <td>NaN</td>\n",
       "      <td>NaN</td>\n",
       "      <td>NaN</td>\n",
       "    </tr>\n",
       "    <tr>\n",
       "      <th>2</th>\n",
       "      <td>t_avg_run_time</td>\n",
       "      <td>t_avg_plan_time</td>\n",
       "      <td>t_avg_dist</td>\n",
       "      <td>t_avg_path_length</td>\n",
       "      <td>t_avg_success</td>\n",
       "      <td>NaN</td>\n",
       "      <td>NaN</td>\n",
       "      <td>NaN</td>\n",
       "      <td>NaN</td>\n",
       "      <td>NaN</td>\n",
       "      <td>NaN</td>\n",
       "      <td>NaN</td>\n",
       "    </tr>\n",
       "    <tr>\n",
       "      <th>3</th>\n",
       "      <td>1.3737043380737304</td>\n",
       "      <td>0.41246938705444336</td>\n",
       "      <td>1.7027308538582961</td>\n",
       "      <td>7.954064973242888</td>\n",
       "      <td>1.0</td>\n",
       "      <td>NaN</td>\n",
       "      <td>NaN</td>\n",
       "      <td>NaN</td>\n",
       "      <td>NaN</td>\n",
       "      <td>NaN</td>\n",
       "      <td>NaN</td>\n",
       "      <td>NaN</td>\n",
       "    </tr>\n",
       "    <tr>\n",
       "      <th>4</th>\n",
       "      <td>NaN</td>\n",
       "      <td>NaN</td>\n",
       "      <td>NaN</td>\n",
       "      <td>NaN</td>\n",
       "      <td>NaN</td>\n",
       "      <td>NaN</td>\n",
       "      <td>NaN</td>\n",
       "      <td>NaN</td>\n",
       "      <td>NaN</td>\n",
       "      <td>NaN</td>\n",
       "      <td>NaN</td>\n",
       "      <td>NaN</td>\n",
       "    </tr>\n",
       "  </tbody>\n",
       "</table>\n",
       "</div>"
      ],
      "text/plain": [
       "                 planner                scene               query  \\\n",
       "0  BKPIECEkConfigDefault       narrow_passage                   0   \n",
       "1                    NaN                  NaN                 NaN   \n",
       "2         t_avg_run_time      t_avg_plan_time          t_avg_dist   \n",
       "3     1.3737043380737304  0.41246938705444336  1.7027308538582961   \n",
       "4                    NaN                  NaN                 NaN   \n",
       "\n",
       "          start_pose    target_pose  avg_runs  avg_run_time  avg_plan_time  \\\n",
       "0           vertical  low_fwd_reach       5.0      1.373704       0.412469   \n",
       "1                NaN            NaN       NaN           NaN            NaN   \n",
       "2  t_avg_path_length  t_avg_success       NaN           NaN            NaN   \n",
       "3  7.954064973242888            1.0       NaN           NaN            NaN   \n",
       "4                NaN            NaN       NaN           NaN            NaN   \n",
       "\n",
       "   avg_dist  avg_path_length  avg_success  \\\n",
       "0  1.702731         7.954065          1.0   \n",
       "1       NaN              NaN          NaN   \n",
       "2       NaN              NaN          NaN   \n",
       "3       NaN              NaN          NaN   \n",
       "4       NaN              NaN          NaN   \n",
       "\n",
       "                                              params  \n",
       "0  {'longest_valid_segment_fraction': '0.005', 'b...  \n",
       "1                                                NaN  \n",
       "2                                                NaN  \n",
       "3                                                NaN  \n",
       "4                                                NaN  "
      ]
     },
     "execution_count": 5,
     "metadata": {},
     "output_type": "execute_result"
    }
   ],
   "source": [
    "# for f in results_fps:\n",
    "#     if any(x in f for x in [\"default\", \"ompl\"]):\n",
    "\n",
    "f = 'Burger_etal_default.csv'\n",
    "df = pd.read_csv(join(dir, f))\n",
    "planner = df.iloc[0]['planner']\n",
    "t_avg_plan_time = df.iloc[2]['scene']\n",
    "print(planner)\n",
    "\n",
    "df.head()"
   ]
  },
  {
   "cell_type": "code",
   "execution_count": 3,
   "metadata": {
    "ExecuteTime": {
     "end_time": "2019-01-31T08:50:28.183071Z",
     "start_time": "2019-01-31T08:50:28.125179Z"
    }
   },
   "outputs": [],
   "source": [
    "import csv\n",
    "f = 'Burger_etal_default.csv'\n",
    "results = {'t_avg_run_time': 123, 't_avg_plan_time': 234}\n",
    "\n",
    "with open('final/'+f,'r') as csvinput:\n",
    "    with open('f', 'w') as csvoutput:\n",
    "        writer = csv.writer(csvoutput, lineterminator='\\n')\n",
    "        reader = csv.reader(csvinput)\n",
    "\n",
    "        all = []\n",
    "        row = next(reader)\n",
    "        row.append('Berry')\n",
    "        all.append(row)\n",
    "\n",
    "        for row in reader:\n",
    "            row.append(row[0])\n",
    "            all.append(row)\n",
    "\n",
    "        writer.writerows(all)"
   ]
  },
  {
   "cell_type": "code",
   "execution_count": null,
   "metadata": {},
   "outputs": [],
   "source": [
    "\n"
   ]
  }
 ],
 "metadata": {
  "kernelspec": {
   "display_name": "Python 3",
   "language": "python",
   "name": "python3"
  },
  "language_info": {
   "codemirror_mode": {
    "name": "ipython",
    "version": 3
   },
   "file_extension": ".py",
   "mimetype": "text/x-python",
   "name": "python",
   "nbconvert_exporter": "python",
   "pygments_lexer": "ipython3",
   "version": "3.7.1"
  },
  "toc": {
   "base_numbering": 1,
   "nav_menu": {},
   "number_sections": true,
   "sideBar": true,
   "skip_h1_title": false,
   "title_cell": "Table of Contents",
   "title_sidebar": "Contents",
   "toc_cell": false,
   "toc_position": {},
   "toc_section_display": true,
   "toc_window_display": false
  },
  "varInspector": {
   "cols": {
    "lenName": 16,
    "lenType": 16,
    "lenVar": 40
   },
   "kernels_config": {
    "python": {
     "delete_cmd_postfix": "",
     "delete_cmd_prefix": "del ",
     "library": "var_list.py",
     "varRefreshCmd": "print(var_dic_list())"
    },
    "r": {
     "delete_cmd_postfix": ") ",
     "delete_cmd_prefix": "rm(",
     "library": "var_list.r",
     "varRefreshCmd": "cat(var_dic_list()) "
    }
   },
   "types_to_exclude": [
    "module",
    "function",
    "builtin_function_or_method",
    "instance",
    "_Feature"
   ],
   "window_display": false
  }
 },
 "nbformat": 4,
 "nbformat_minor": 2
}
